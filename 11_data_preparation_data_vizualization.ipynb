{
 "cells": [
  {
   "cell_type": "code",
   "execution_count": 40,
   "id": "fd3c5975-bd88-4c1e-bc1a-b45eea2e18ae",
   "metadata": {},
   "outputs": [],
   "source": [
    "import pandas as pd\n",
    "import numpy as np\n"
   ]
  },
  {
   "cell_type": "code",
   "execution_count": 41,
   "id": "98207031-8c8b-41e1-992f-806b496c956e",
   "metadata": {},
   "outputs": [],
   "source": [
    "pd.set_option('display.max_columns', None)"
   ]
  },
  {
   "cell_type": "code",
   "execution_count": 42,
   "id": "208616b0-a143-4dec-b636-554e2c9e16d8",
   "metadata": {},
   "outputs": [],
   "source": [
    "df = pd.read_csv('cleaned_data_v3.csv')"
   ]
  },
  {
   "cell_type": "code",
   "execution_count": 43,
   "id": "e65c0a7a-0926-4005-9633-5b5ab8f9bd4b",
   "metadata": {},
   "outputs": [
    {
     "data": {
      "text/plain": [
       "Index(['Unnamed: 0', 'Facing', 'No_Bedroom', 'No_Bathroom', 'No_Balcony',\n",
       "       'Corner_Property', 'Furnishing', 'Address', 'Main Description',\n",
       "       'Nearby Locations', 'Features', 'Dealer', 'Society Name',\n",
       "       'Price_in_Crore', 'price_Per_Sqft_converted', 'given_area_in_sqft',\n",
       "       'floor_number', 'total_floors', 'AreaType_Built-up Area',\n",
       "       'AreaType_Carpet Area', 'AreaType_Super Built-up Area', 'study room',\n",
       "       'servant room', 'store room', 'pooja room', 'Overlooking_others',\n",
       "       'Overlooking_main road', 'Overlooking_sea facing', 'Overlooking_club',\n",
       "       'Overlooking_park/garden', 'Overlooking_pool',\n",
       "       'Overlooking_lake facing', 'Overlooking_NA', 'flat_age', 'sector_num'],\n",
       "      dtype='object')"
      ]
     },
     "execution_count": 43,
     "metadata": {},
     "output_type": "execute_result"
    }
   ],
   "source": [
    "df.columns"
   ]
  },
  {
   "cell_type": "code",
   "execution_count": 44,
   "id": "74241366-f66f-453e-bc2b-7b88cdfb94f3",
   "metadata": {},
   "outputs": [],
   "source": [
    "df = df.drop(columns = ['Unnamed: 0', 'Address', 'Main Description' , 'Dealer'  , 'Overlooking_others',\n",
    "       'Overlooking_main road', 'Overlooking_sea facing', 'Overlooking_club',\n",
    "       'Overlooking_park/garden', 'Overlooking_pool',\n",
    "       'Overlooking_lake facing', 'Overlooking_NA' ])"
   ]
  },
  {
   "cell_type": "code",
   "execution_count": 45,
   "id": "629357c8-9923-45dc-beda-c5a60e09b70b",
   "metadata": {},
   "outputs": [],
   "source": [
    "df = df.drop(columns = ['study room',\n",
    "       'servant room', 'store room', 'pooja room'])"
   ]
  },
  {
   "cell_type": "code",
   "execution_count": 46,
   "id": "77ba43c3-14b4-4075-a9b1-db2dac3ce0ce",
   "metadata": {},
   "outputs": [
    {
     "data": {
      "text/html": [
       "<div>\n",
       "<style scoped>\n",
       "    .dataframe tbody tr th:only-of-type {\n",
       "        vertical-align: middle;\n",
       "    }\n",
       "\n",
       "    .dataframe tbody tr th {\n",
       "        vertical-align: top;\n",
       "    }\n",
       "\n",
       "    .dataframe thead th {\n",
       "        text-align: right;\n",
       "    }\n",
       "</style>\n",
       "<table border=\"1\" class=\"dataframe\">\n",
       "  <thead>\n",
       "    <tr style=\"text-align: right;\">\n",
       "      <th></th>\n",
       "      <th>Facing</th>\n",
       "      <th>No_Bedroom</th>\n",
       "      <th>No_Bathroom</th>\n",
       "      <th>No_Balcony</th>\n",
       "      <th>Corner_Property</th>\n",
       "      <th>Furnishing</th>\n",
       "      <th>Nearby Locations</th>\n",
       "      <th>Features</th>\n",
       "      <th>Society Name</th>\n",
       "      <th>Price_in_Crore</th>\n",
       "      <th>price_Per_Sqft_converted</th>\n",
       "      <th>given_area_in_sqft</th>\n",
       "      <th>floor_number</th>\n",
       "      <th>total_floors</th>\n",
       "      <th>AreaType_Built-up Area</th>\n",
       "      <th>AreaType_Carpet Area</th>\n",
       "      <th>AreaType_Super Built-up Area</th>\n",
       "      <th>flat_age</th>\n",
       "      <th>sector_num</th>\n",
       "    </tr>\n",
       "  </thead>\n",
       "  <tbody>\n",
       "    <tr>\n",
       "      <th>10823</th>\n",
       "      <td>0.0</td>\n",
       "      <td>3</td>\n",
       "      <td>2.0</td>\n",
       "      <td>3</td>\n",
       "      <td>0</td>\n",
       "      <td>1.0</td>\n",
       "      <td>['Chintapurni Mandir', 'State bank ATM', 'Esic...</td>\n",
       "      <td>['Security / Fire Alarm', 'Lift(s)', 'High Cei...</td>\n",
       "      <td>the new crpf apartments</td>\n",
       "      <td>1.10</td>\n",
       "      <td>805459.356</td>\n",
       "      <td>1582</td>\n",
       "      <td>3</td>\n",
       "      <td>9</td>\n",
       "      <td>0</td>\n",
       "      <td>1</td>\n",
       "      <td>0</td>\n",
       "      <td>5</td>\n",
       "      <td>9</td>\n",
       "    </tr>\n",
       "    <tr>\n",
       "      <th>5802</th>\n",
       "      <td>5.0</td>\n",
       "      <td>3</td>\n",
       "      <td>2.0</td>\n",
       "      <td>3</td>\n",
       "      <td>1</td>\n",
       "      <td>1.0</td>\n",
       "      <td>['Sector 55-56 Metro Station', 'Airia Mall', '...</td>\n",
       "      <td>['Security / Fire Alarm', 'Power Back-up', 'Fe...</td>\n",
       "      <td>pareena mi casa</td>\n",
       "      <td>1.50</td>\n",
       "      <td>10114.000</td>\n",
       "      <td>1483</td>\n",
       "      <td>10</td>\n",
       "      <td>35</td>\n",
       "      <td>0</td>\n",
       "      <td>0</td>\n",
       "      <td>1</td>\n",
       "      <td>1</td>\n",
       "      <td>68</td>\n",
       "    </tr>\n",
       "    <tr>\n",
       "      <th>130</th>\n",
       "      <td>4.0</td>\n",
       "      <td>2</td>\n",
       "      <td>2.0</td>\n",
       "      <td>3</td>\n",
       "      <td>1</td>\n",
       "      <td>1.0</td>\n",
       "      <td>['Rapid Metro Sector 56', 'M3m 65th Avenue Mal...</td>\n",
       "      <td>['Security / Fire Alarm', 'Power Back-up', 'Fe...</td>\n",
       "      <td>m3m heights</td>\n",
       "      <td>2.14</td>\n",
       "      <td>17000.000</td>\n",
       "      <td>1261</td>\n",
       "      <td>17</td>\n",
       "      <td>34</td>\n",
       "      <td>0</td>\n",
       "      <td>0</td>\n",
       "      <td>1</td>\n",
       "      <td>1</td>\n",
       "      <td>65</td>\n",
       "    </tr>\n",
       "    <tr>\n",
       "      <th>7734</th>\n",
       "      <td>4.0</td>\n",
       "      <td>4</td>\n",
       "      <td>4.0</td>\n",
       "      <td>3</td>\n",
       "      <td>0</td>\n",
       "      <td>1.0</td>\n",
       "      <td>['AIPL Joy Street Mall', 'Golf Course Extensio...</td>\n",
       "      <td>['Security / Fire Alarm', 'Private Garden / Te...</td>\n",
       "      <td>ireo victory valley</td>\n",
       "      <td>6.25</td>\n",
       "      <td>24038.000</td>\n",
       "      <td>3130</td>\n",
       "      <td>10</td>\n",
       "      <td>51</td>\n",
       "      <td>0</td>\n",
       "      <td>0</td>\n",
       "      <td>1</td>\n",
       "      <td>4</td>\n",
       "      <td>67</td>\n",
       "    </tr>\n",
       "  </tbody>\n",
       "</table>\n",
       "</div>"
      ],
      "text/plain": [
       "       Facing  No_Bedroom  No_Bathroom  No_Balcony  Corner_Property  \\\n",
       "10823     0.0           3          2.0           3                0   \n",
       "5802      5.0           3          2.0           3                1   \n",
       "130       4.0           2          2.0           3                1   \n",
       "7734      4.0           4          4.0           3                0   \n",
       "\n",
       "       Furnishing                                   Nearby Locations  \\\n",
       "10823         1.0  ['Chintapurni Mandir', 'State bank ATM', 'Esic...   \n",
       "5802          1.0  ['Sector 55-56 Metro Station', 'Airia Mall', '...   \n",
       "130           1.0  ['Rapid Metro Sector 56', 'M3m 65th Avenue Mal...   \n",
       "7734          1.0  ['AIPL Joy Street Mall', 'Golf Course Extensio...   \n",
       "\n",
       "                                                Features  \\\n",
       "10823  ['Security / Fire Alarm', 'Lift(s)', 'High Cei...   \n",
       "5802   ['Security / Fire Alarm', 'Power Back-up', 'Fe...   \n",
       "130    ['Security / Fire Alarm', 'Power Back-up', 'Fe...   \n",
       "7734   ['Security / Fire Alarm', 'Private Garden / Te...   \n",
       "\n",
       "                  Society Name  Price_in_Crore  price_Per_Sqft_converted  \\\n",
       "10823  the new crpf apartments            1.10                805459.356   \n",
       "5802           pareena mi casa            1.50                 10114.000   \n",
       "130                m3m heights            2.14                 17000.000   \n",
       "7734       ireo victory valley            6.25                 24038.000   \n",
       "\n",
       "       given_area_in_sqft  floor_number  total_floors  AreaType_Built-up Area  \\\n",
       "10823                1582             3             9                       0   \n",
       "5802                 1483            10            35                       0   \n",
       "130                  1261            17            34                       0   \n",
       "7734                 3130            10            51                       0   \n",
       "\n",
       "       AreaType_Carpet Area  AreaType_Super Built-up Area  flat_age  \\\n",
       "10823                     1                             0         5   \n",
       "5802                      0                             1         1   \n",
       "130                       0                             1         1   \n",
       "7734                      0                             1         4   \n",
       "\n",
       "       sector_num  \n",
       "10823           9  \n",
       "5802           68  \n",
       "130            65  \n",
       "7734           67  "
      ]
     },
     "execution_count": 46,
     "metadata": {},
     "output_type": "execute_result"
    }
   ],
   "source": [
    "df.sample(4)"
   ]
  },
  {
   "cell_type": "code",
   "execution_count": 47,
   "id": "a19dcafa-344b-41d5-b8dd-d5c34f9b8222",
   "metadata": {},
   "outputs": [],
   "source": [
    "df.loc[df['AreaType_Built-up Area'] == 1, 'Super Built-up Area'] = df['given_area_in_sqft'] * 1.2\n",
    "\n",
    "# Apply the 1.35 factor for rows with 'Carpet Area'\n",
    "df.loc[df['AreaType_Carpet Area'] == 1, 'Super Built-up Area'] = df['given_area_in_sqft'] * 1.35\n",
    "df.loc[df['AreaType_Super Built-up Area'] == 1 , 'Super Built-up Area'] = df['given_area_in_sqft'] * 1 "
   ]
  },
  {
   "cell_type": "code",
   "execution_count": 48,
   "id": "4582ca56-24c3-4940-a1c9-401ca1fda506",
   "metadata": {},
   "outputs": [],
   "source": [
    "df['floor_ratio'] = df['floor_number']/df['total_floors']"
   ]
  },
  {
   "cell_type": "code",
   "execution_count": 49,
   "id": "dd57fe1e-bc41-49d4-988b-eb7f0d12e3b7",
   "metadata": {},
   "outputs": [],
   "source": [
    "df = df.drop(columns = ['floor_number' , 'total_floors',])"
   ]
  },
  {
   "cell_type": "code",
   "execution_count": 50,
   "id": "a36d1656-8efd-46a3-9d01-87557fc69183",
   "metadata": {},
   "outputs": [],
   "source": [
    "def categorize_floor(floor):\n",
    "    if  floor <= 0.33:\n",
    "        return \"Low\"\n",
    "    elif 0.33 < floor <= 0.66:\n",
    "        return \"Mid\"\n",
    "    elif floor > 0.66:\n",
    "        return \"High\"\n",
    "    else:\n",
    "        return None"
   ]
  },
  {
   "cell_type": "code",
   "execution_count": 51,
   "id": "fa7f79d2-b2cb-42bb-9b31-17af7560038a",
   "metadata": {},
   "outputs": [],
   "source": [
    "df['floor_category'] = df['floor_ratio'].apply(categorize_floor)"
   ]
  },
  {
   "cell_type": "code",
   "execution_count": 52,
   "id": "597fc72f-198b-40e2-a591-35a3101e0752",
   "metadata": {},
   "outputs": [],
   "source": [
    "df = df.drop(columns = ['floor_ratio'])"
   ]
  },
  {
   "cell_type": "code",
   "execution_count": 53,
   "id": "ac19c796-7ec5-4493-91cb-52598fc4a97b",
   "metadata": {},
   "outputs": [],
   "source": [
    "balcony_mapping = {\n",
    "    4: '3+',\n",
    "    3 : '3',\n",
    "    2 : '2',\n",
    "    1 : '1',\n",
    "    0 : '0',\n",
    "}\n",
    "\n",
    "df['No_Balcony'] = df['No_Balcony'].map(balcony_mapping)"
   ]
  },
  {
   "cell_type": "code",
   "execution_count": 54,
   "id": "6210beb1-077a-4744-a20a-5b9a9583203a",
   "metadata": {},
   "outputs": [],
   "source": [
    "status_mapping = {\n",
    "    3 : 'Relatively New',\n",
    "    1 : 'New Property',\n",
    "    4: 'Moderately Old',\n",
    "    2: 'Under Construction',\n",
    "    5 : 'Old Property',\n",
    "    6: 'Undefined'\n",
    "}\n",
    "\n",
    "df['flat_age'] = df['flat_age'].replace(status_mapping)"
   ]
  },
  {
   "cell_type": "code",
   "execution_count": 55,
   "id": "33eb6734-e829-4717-bf57-ae73f912187c",
   "metadata": {},
   "outputs": [],
   "source": [
    "replacements = {\n",
    "    1 : 'Yes',\n",
    "    0 : 'No'\n",
    "}\n",
    "\n",
    "df['Corner_Property'] = df['Corner_Property'].replace(replacements)"
   ]
  },
  {
   "cell_type": "code",
   "execution_count": 56,
   "id": "1ea7fa97-a0a7-43f1-ac58-5a73a52b5493",
   "metadata": {},
   "outputs": [],
   "source": [
    "status_mapping = {\n",
    "        \n",
    "    0.0 : 'East',\n",
    "    1.0 : 'West',\n",
    "    2.0 : 'North',\n",
    "    3.0 : 'South',\n",
    "    4.0 : 'North-East',\n",
    "    5.0 : 'North-West',\n",
    "    6.0 : 'South-East',\n",
    "    7.0 : 'South-West',\n",
    "}\n",
    "\n",
    "df['Facing'] = df['Facing'].replace(status_mapping)"
   ]
  },
  {
   "cell_type": "code",
   "execution_count": 57,
   "id": "35e7d03e-bce4-4c89-aed0-ca945b084d6d",
   "metadata": {},
   "outputs": [],
   "source": [
    "status_mapping_Furnishing = {\n",
    "    0 :'Unfurnished',\n",
    "    2 : 'Furnished',\n",
    "    1: 'Semifurnished',\n",
    "\n",
    "}\n",
    "\n",
    "df['Furnishing'] = df['Furnishing'].replace(status_mapping_Furnishing)"
   ]
  },
  {
   "cell_type": "code",
   "execution_count": 58,
   "id": "a8aa788b-3fef-4414-848a-f6aad5ee3436",
   "metadata": {},
   "outputs": [],
   "source": [
    "df = df.drop(columns = ['given_area_in_sqft' , 'AreaType_Built-up Area' , 'AreaType_Carpet Area' ,  'AreaType_Carpet Area'] )"
   ]
  },
  {
   "cell_type": "code",
   "execution_count": 59,
   "id": "ee4a983a-49e1-4044-b80a-836d7a49aae0",
   "metadata": {},
   "outputs": [],
   "source": [
    "df = df.drop(columns = ['AreaType_Super Built-up Area' , 'Nearby Locations' , 'Society Name' ])"
   ]
  },
  {
   "cell_type": "code",
   "execution_count": 60,
   "id": "8003aba5-e65d-4c52-b983-46918b5bb9ca",
   "metadata": {},
   "outputs": [
    {
     "data": {
      "text/html": [
       "<div>\n",
       "<style scoped>\n",
       "    .dataframe tbody tr th:only-of-type {\n",
       "        vertical-align: middle;\n",
       "    }\n",
       "\n",
       "    .dataframe tbody tr th {\n",
       "        vertical-align: top;\n",
       "    }\n",
       "\n",
       "    .dataframe thead th {\n",
       "        text-align: right;\n",
       "    }\n",
       "</style>\n",
       "<table border=\"1\" class=\"dataframe\">\n",
       "  <thead>\n",
       "    <tr style=\"text-align: right;\">\n",
       "      <th></th>\n",
       "      <th>Facing</th>\n",
       "      <th>No_Bedroom</th>\n",
       "      <th>No_Bathroom</th>\n",
       "      <th>No_Balcony</th>\n",
       "      <th>Corner_Property</th>\n",
       "      <th>Furnishing</th>\n",
       "      <th>Features</th>\n",
       "      <th>Price_in_Crore</th>\n",
       "      <th>price_Per_Sqft_converted</th>\n",
       "      <th>flat_age</th>\n",
       "      <th>sector_num</th>\n",
       "      <th>Super Built-up Area</th>\n",
       "      <th>floor_category</th>\n",
       "    </tr>\n",
       "  </thead>\n",
       "  <tbody>\n",
       "    <tr>\n",
       "      <th>5623</th>\n",
       "      <td>North</td>\n",
       "      <td>3</td>\n",
       "      <td>3.0</td>\n",
       "      <td>3</td>\n",
       "      <td>Yes</td>\n",
       "      <td>Semifurnished</td>\n",
       "      <td>['Security / Fire Alarm', 'Power Back-up', 'Fe...</td>\n",
       "      <td>1.01</td>\n",
       "      <td>6424.0</td>\n",
       "      <td>Moderately Old</td>\n",
       "      <td>92</td>\n",
       "      <td>1572.0</td>\n",
       "      <td>High</td>\n",
       "    </tr>\n",
       "    <tr>\n",
       "      <th>3066</th>\n",
       "      <td>North-East</td>\n",
       "      <td>4</td>\n",
       "      <td>4.0</td>\n",
       "      <td>3+</td>\n",
       "      <td>Yes</td>\n",
       "      <td>Semifurnished</td>\n",
       "      <td>['Centrally Air Conditioned', 'Water purifier'...</td>\n",
       "      <td>3.55</td>\n",
       "      <td>13829.0</td>\n",
       "      <td>Moderately Old</td>\n",
       "      <td>48</td>\n",
       "      <td>2567.0</td>\n",
       "      <td>Mid</td>\n",
       "    </tr>\n",
       "    <tr>\n",
       "      <th>1284</th>\n",
       "      <td>North-East</td>\n",
       "      <td>2</td>\n",
       "      <td>2.0</td>\n",
       "      <td>3+</td>\n",
       "      <td>Yes</td>\n",
       "      <td>Semifurnished</td>\n",
       "      <td>['Feng Shui / Vaastu Compliant', 'Security / F...</td>\n",
       "      <td>1.65</td>\n",
       "      <td>10941.0</td>\n",
       "      <td>Moderately Old</td>\n",
       "      <td>70</td>\n",
       "      <td>1508.0</td>\n",
       "      <td>Mid</td>\n",
       "    </tr>\n",
       "    <tr>\n",
       "      <th>12373</th>\n",
       "      <td>North-East</td>\n",
       "      <td>3</td>\n",
       "      <td>3.0</td>\n",
       "      <td>2</td>\n",
       "      <td>No</td>\n",
       "      <td>Semifurnished</td>\n",
       "      <td>['Lift(s)', 'Water purifier', 'High Ceiling He...</td>\n",
       "      <td>2.26</td>\n",
       "      <td>13556.0</td>\n",
       "      <td>New Property</td>\n",
       "      <td>79</td>\n",
       "      <td>1669.0</td>\n",
       "      <td>Mid</td>\n",
       "    </tr>\n",
       "  </tbody>\n",
       "</table>\n",
       "</div>"
      ],
      "text/plain": [
       "           Facing  No_Bedroom  No_Bathroom No_Balcony Corner_Property  \\\n",
       "5623        North           3          3.0          3             Yes   \n",
       "3066   North-East           4          4.0         3+             Yes   \n",
       "1284   North-East           2          2.0         3+             Yes   \n",
       "12373  North-East           3          3.0          2              No   \n",
       "\n",
       "          Furnishing                                           Features  \\\n",
       "5623   Semifurnished  ['Security / Fire Alarm', 'Power Back-up', 'Fe...   \n",
       "3066   Semifurnished  ['Centrally Air Conditioned', 'Water purifier'...   \n",
       "1284   Semifurnished  ['Feng Shui / Vaastu Compliant', 'Security / F...   \n",
       "12373  Semifurnished  ['Lift(s)', 'Water purifier', 'High Ceiling He...   \n",
       "\n",
       "       Price_in_Crore  price_Per_Sqft_converted        flat_age  sector_num  \\\n",
       "5623             1.01                    6424.0  Moderately Old          92   \n",
       "3066             3.55                   13829.0  Moderately Old          48   \n",
       "1284             1.65                   10941.0  Moderately Old          70   \n",
       "12373            2.26                   13556.0    New Property          79   \n",
       "\n",
       "       Super Built-up Area floor_category  \n",
       "5623                1572.0           High  \n",
       "3066                2567.0            Mid  \n",
       "1284                1508.0            Mid  \n",
       "12373               1669.0            Mid  "
      ]
     },
     "execution_count": 60,
     "metadata": {},
     "output_type": "execute_result"
    }
   ],
   "source": [
    "df.sample(4)"
   ]
  },
  {
   "cell_type": "code",
   "execution_count": 61,
   "id": "16a7539e-bb75-4188-b1d2-54a3e9f7e678",
   "metadata": {},
   "outputs": [
    {
     "name": "stdout",
     "output_type": "stream",
     "text": [
      "<class 'pandas.core.frame.DataFrame'>\n",
      "RangeIndex: 12444 entries, 0 to 12443\n",
      "Data columns (total 13 columns):\n",
      " #   Column                    Non-Null Count  Dtype  \n",
      "---  ------                    --------------  -----  \n",
      " 0   Facing                    12444 non-null  object \n",
      " 1   No_Bedroom                12444 non-null  int64  \n",
      " 2   No_Bathroom               12444 non-null  float64\n",
      " 3   No_Balcony                12444 non-null  object \n",
      " 4   Corner_Property           12444 non-null  object \n",
      " 5   Furnishing                12444 non-null  object \n",
      " 6   Features                  12444 non-null  object \n",
      " 7   Price_in_Crore            12444 non-null  float64\n",
      " 8   price_Per_Sqft_converted  12444 non-null  float64\n",
      " 9   flat_age                  12444 non-null  object \n",
      " 10  sector_num                12444 non-null  int64  \n",
      " 11  Super Built-up Area       12444 non-null  float64\n",
      " 12  floor_category            12443 non-null  object \n",
      "dtypes: float64(4), int64(2), object(7)\n",
      "memory usage: 1.2+ MB\n"
     ]
    }
   ],
   "source": [
    "df.info()"
   ]
  },
  {
   "cell_type": "code",
   "execution_count": 62,
   "id": "e5eea3c2-8eec-485f-92af-f96060a20113",
   "metadata": {},
   "outputs": [],
   "source": [
    "df.to_csv('Data_visualization_df.csv')"
   ]
  },
  {
   "cell_type": "code",
   "execution_count": null,
   "id": "0740c55e-c408-4ab4-902a-ecefebf5d230",
   "metadata": {},
   "outputs": [],
   "source": []
  }
 ],
 "metadata": {
  "kernelspec": {
   "display_name": "Python 3 (ipykernel)",
   "language": "python",
   "name": "python3"
  },
  "language_info": {
   "codemirror_mode": {
    "name": "ipython",
    "version": 3
   },
   "file_extension": ".py",
   "mimetype": "text/x-python",
   "name": "python",
   "nbconvert_exporter": "python",
   "pygments_lexer": "ipython3",
   "version": "3.11.4"
  }
 },
 "nbformat": 4,
 "nbformat_minor": 5
}
