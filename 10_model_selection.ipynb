{
 "cells": [
  {
   "cell_type": "code",
   "execution_count": 5,
   "id": "3823c4a7-1c30-40fc-a9e9-1e41a8c1d537",
   "metadata": {},
   "outputs": [],
   "source": [
    "import pandas as pd\n",
    "import numpy as np"
   ]
  },
  {
   "cell_type": "code",
   "execution_count": 6,
   "id": "b9917e95-fd36-4898-82ae-f9136c8b594f",
   "metadata": {},
   "outputs": [],
   "source": [
    "pd.set_option('display.max_columns', None)\n",
    "df = pd.read_csv('gurgaon_properties_post_feature_selection.csv')"
   ]
  },
  {
   "cell_type": "code",
   "execution_count": 7,
   "id": "31280608-f764-421b-a40c-a2b512ba82ce",
   "metadata": {},
   "outputs": [
    {
     "data": {
      "text/plain": [
       "(12437, 20)"
      ]
     },
     "execution_count": 7,
     "metadata": {},
     "output_type": "execute_result"
    }
   ],
   "source": [
    "df.shape"
   ]
  },
  {
   "cell_type": "code",
   "execution_count": 8,
   "id": "4d91e6d8-abab-4b9a-bb41-920f8c4937b0",
   "metadata": {},
   "outputs": [
    {
     "data": {
      "text/html": [
       "<div>\n",
       "<style scoped>\n",
       "    .dataframe tbody tr th:only-of-type {\n",
       "        vertical-align: middle;\n",
       "    }\n",
       "\n",
       "    .dataframe tbody tr th {\n",
       "        vertical-align: top;\n",
       "    }\n",
       "\n",
       "    .dataframe thead th {\n",
       "        text-align: right;\n",
       "    }\n",
       "</style>\n",
       "<table border=\"1\" class=\"dataframe\">\n",
       "  <thead>\n",
       "    <tr style=\"text-align: right;\">\n",
       "      <th></th>\n",
       "      <th>Facing</th>\n",
       "      <th>No_Bedroom</th>\n",
       "      <th>No_Bathroom</th>\n",
       "      <th>No_Balcony</th>\n",
       "      <th>Corner_Property</th>\n",
       "      <th>Furnishing</th>\n",
       "      <th>study room</th>\n",
       "      <th>servant room</th>\n",
       "      <th>store room</th>\n",
       "      <th>pooja room</th>\n",
       "      <th>Overlooking_main road</th>\n",
       "      <th>Overlooking_club</th>\n",
       "      <th>Overlooking_pool</th>\n",
       "      <th>Overlooking_NA</th>\n",
       "      <th>flat_age</th>\n",
       "      <th>sector_num</th>\n",
       "      <th>Super Built-up Area</th>\n",
       "      <th>luxury_category</th>\n",
       "      <th>floor_category</th>\n",
       "      <th>price</th>\n",
       "    </tr>\n",
       "  </thead>\n",
       "  <tbody>\n",
       "    <tr>\n",
       "      <th>6101</th>\n",
       "      <td>4.0</td>\n",
       "      <td>3</td>\n",
       "      <td>3.0</td>\n",
       "      <td>2</td>\n",
       "      <td>1</td>\n",
       "      <td>2.0</td>\n",
       "      <td>1</td>\n",
       "      <td>0</td>\n",
       "      <td>0</td>\n",
       "      <td>1</td>\n",
       "      <td>1</td>\n",
       "      <td>1</td>\n",
       "      <td>1</td>\n",
       "      <td>0</td>\n",
       "      <td>3</td>\n",
       "      <td>47</td>\n",
       "      <td>1770.0</td>\n",
       "      <td>1.0</td>\n",
       "      <td>0.0</td>\n",
       "      <td>1.30</td>\n",
       "    </tr>\n",
       "    <tr>\n",
       "      <th>1687</th>\n",
       "      <td>0.0</td>\n",
       "      <td>2</td>\n",
       "      <td>2.0</td>\n",
       "      <td>3</td>\n",
       "      <td>1</td>\n",
       "      <td>1.0</td>\n",
       "      <td>1</td>\n",
       "      <td>0</td>\n",
       "      <td>0</td>\n",
       "      <td>0</td>\n",
       "      <td>1</td>\n",
       "      <td>1</td>\n",
       "      <td>1</td>\n",
       "      <td>0</td>\n",
       "      <td>3</td>\n",
       "      <td>68</td>\n",
       "      <td>1450.0</td>\n",
       "      <td>1.0</td>\n",
       "      <td>1.0</td>\n",
       "      <td>1.20</td>\n",
       "    </tr>\n",
       "    <tr>\n",
       "      <th>11471</th>\n",
       "      <td>4.0</td>\n",
       "      <td>3</td>\n",
       "      <td>5.0</td>\n",
       "      <td>3</td>\n",
       "      <td>1</td>\n",
       "      <td>1.0</td>\n",
       "      <td>0</td>\n",
       "      <td>1</td>\n",
       "      <td>0</td>\n",
       "      <td>1</td>\n",
       "      <td>1</td>\n",
       "      <td>0</td>\n",
       "      <td>0</td>\n",
       "      <td>0</td>\n",
       "      <td>3</td>\n",
       "      <td>70</td>\n",
       "      <td>1950.0</td>\n",
       "      <td>2.0</td>\n",
       "      <td>1.0</td>\n",
       "      <td>2.25</td>\n",
       "    </tr>\n",
       "    <tr>\n",
       "      <th>7826</th>\n",
       "      <td>4.0</td>\n",
       "      <td>4</td>\n",
       "      <td>4.0</td>\n",
       "      <td>3</td>\n",
       "      <td>0</td>\n",
       "      <td>1.0</td>\n",
       "      <td>0</td>\n",
       "      <td>0</td>\n",
       "      <td>0</td>\n",
       "      <td>0</td>\n",
       "      <td>1</td>\n",
       "      <td>1</td>\n",
       "      <td>1</td>\n",
       "      <td>0</td>\n",
       "      <td>1</td>\n",
       "      <td>37</td>\n",
       "      <td>2191.0</td>\n",
       "      <td>0.0</td>\n",
       "      <td>0.0</td>\n",
       "      <td>2.46</td>\n",
       "    </tr>\n",
       "  </tbody>\n",
       "</table>\n",
       "</div>"
      ],
      "text/plain": [
       "       Facing  No_Bedroom  No_Bathroom  No_Balcony  Corner_Property  \\\n",
       "6101      4.0           3          3.0           2                1   \n",
       "1687      0.0           2          2.0           3                1   \n",
       "11471     4.0           3          5.0           3                1   \n",
       "7826      4.0           4          4.0           3                0   \n",
       "\n",
       "       Furnishing  study room  servant room  store room  pooja room  \\\n",
       "6101          2.0           1             0           0           1   \n",
       "1687          1.0           1             0           0           0   \n",
       "11471         1.0           0             1           0           1   \n",
       "7826          1.0           0             0           0           0   \n",
       "\n",
       "       Overlooking_main road  Overlooking_club  Overlooking_pool  \\\n",
       "6101                       1                 1                 1   \n",
       "1687                       1                 1                 1   \n",
       "11471                      1                 0                 0   \n",
       "7826                       1                 1                 1   \n",
       "\n",
       "       Overlooking_NA  flat_age  sector_num  Super Built-up Area  \\\n",
       "6101                0         3          47               1770.0   \n",
       "1687                0         3          68               1450.0   \n",
       "11471               0         3          70               1950.0   \n",
       "7826                0         1          37               2191.0   \n",
       "\n",
       "       luxury_category  floor_category  price  \n",
       "6101               1.0             0.0   1.30  \n",
       "1687               1.0             1.0   1.20  \n",
       "11471              2.0             1.0   2.25  \n",
       "7826               0.0             0.0   2.46  "
      ]
     },
     "execution_count": 8,
     "metadata": {},
     "output_type": "execute_result"
    }
   ],
   "source": [
    "df.sample(4)"
   ]
  },
  {
   "cell_type": "code",
   "execution_count": 9,
   "id": "2153cc95-149a-4aad-8445-5503d5e30ff6",
   "metadata": {},
   "outputs": [
    {
     "data": {
      "text/plain": [
       "Furnishing\n",
       "1.0    9686\n",
       "0.0    2220\n",
       "2.0     531\n",
       "Name: count, dtype: int64"
      ]
     },
     "execution_count": 9,
     "metadata": {},
     "output_type": "execute_result"
    }
   ],
   "source": [
    "df['Furnishing'].value_counts()"
   ]
  },
  {
   "cell_type": "code",
   "execution_count": 10,
   "id": "226b00c8-67c4-4838-a735-ae2d2b249b61",
   "metadata": {},
   "outputs": [],
   "source": [
    "from sklearn.model_selection import KFold, cross_val_score\n",
    "from sklearn.linear_model import LinearRegression\n",
    "from sklearn.pipeline import Pipeline\n",
    "from sklearn.preprocessing import OneHotEncoder, StandardScaler, OrdinalEncoder\n",
    "from sklearn.compose import ColumnTransformer\n",
    "from sklearn.svm import SVR\n",
    "\n",
    "from sklearn.model_selection import train_test_split\n",
    "from sklearn.metrics import mean_absolute_error\n",
    "\n",
    "from sklearn.decomposition import PCA"
   ]
  },
  {
   "cell_type": "code",
   "execution_count": 11,
   "id": "4937b197-60c8-41b0-963d-5961a28fdd2e",
   "metadata": {},
   "outputs": [
    {
     "name": "stdout",
     "output_type": "stream",
     "text": [
      "<class 'pandas.core.frame.DataFrame'>\n",
      "RangeIndex: 12437 entries, 0 to 12436\n",
      "Data columns (total 20 columns):\n",
      " #   Column                 Non-Null Count  Dtype  \n",
      "---  ------                 --------------  -----  \n",
      " 0   Facing                 12437 non-null  float64\n",
      " 1   No_Bedroom             12437 non-null  int64  \n",
      " 2   No_Bathroom            12437 non-null  float64\n",
      " 3   No_Balcony             12437 non-null  int64  \n",
      " 4   Corner_Property        12437 non-null  int64  \n",
      " 5   Furnishing             12437 non-null  float64\n",
      " 6   study room             12437 non-null  int64  \n",
      " 7   servant room           12437 non-null  int64  \n",
      " 8   store room             12437 non-null  int64  \n",
      " 9   pooja room             12437 non-null  int64  \n",
      " 10  Overlooking_main road  12437 non-null  int64  \n",
      " 11  Overlooking_club       12437 non-null  int64  \n",
      " 12  Overlooking_pool       12437 non-null  int64  \n",
      " 13  Overlooking_NA         12437 non-null  int64  \n",
      " 14  flat_age               12437 non-null  int64  \n",
      " 15  sector_num             12437 non-null  int64  \n",
      " 16  Super Built-up Area    12437 non-null  float64\n",
      " 17  luxury_category        12437 non-null  float64\n",
      " 18  floor_category         12437 non-null  float64\n",
      " 19  price                  12437 non-null  float64\n",
      "dtypes: float64(7), int64(13)\n",
      "memory usage: 1.9 MB\n"
     ]
    }
   ],
   "source": [
    "df.info()"
   ]
  },
  {
   "cell_type": "code",
   "execution_count": 12,
   "id": "135ce3b9-1eda-4d29-8267-bd52648b4fa2",
   "metadata": {},
   "outputs": [
    {
     "data": {
      "text/plain": [
       "No_Balcony\n",
       "4    4945\n",
       "3    4351\n",
       "2    2545\n",
       "1     582\n",
       "0      14\n",
       "Name: count, dtype: int64"
      ]
     },
     "execution_count": 12,
     "metadata": {},
     "output_type": "execute_result"
    }
   ],
   "source": [
    "df['No_Balcony'].value_counts()"
   ]
  },
  {
   "cell_type": "code",
   "execution_count": 13,
   "id": "406bfe3c-cbc6-4584-954f-f2392d52f45b",
   "metadata": {},
   "outputs": [],
   "source": [
    "balcony_mapping = {\n",
    "    4: '3+',\n",
    "    3 : '3',\n",
    "    2 : '2',\n",
    "    1 : '1',\n",
    "    0 : '0',\n",
    "}\n",
    "\n",
    "df['No_Balcony'] = df['No_Balcony'].map(balcony_mapping)"
   ]
  },
  {
   "cell_type": "code",
   "execution_count": 14,
   "id": "3f3f907b-1f19-4236-bd3b-8136260b5f25",
   "metadata": {},
   "outputs": [
    {
     "data": {
      "text/plain": [
       "No_Balcony\n",
       "3+    4945\n",
       "3     4351\n",
       "2     2545\n",
       "1      582\n",
       "0       14\n",
       "Name: count, dtype: int64"
      ]
     },
     "execution_count": 14,
     "metadata": {},
     "output_type": "execute_result"
    }
   ],
   "source": [
    "df['No_Balcony'].value_counts()"
   ]
  },
  {
   "cell_type": "code",
   "execution_count": 15,
   "id": "6e2bdd9e-9c36-4503-b1ee-fcd752f8559a",
   "metadata": {},
   "outputs": [
    {
     "data": {
      "text/plain": [
       "flat_age\n",
       "3    5441\n",
       "1    2267\n",
       "4    2123\n",
       "2    1859\n",
       "5     743\n",
       "6       4\n",
       "Name: count, dtype: int64"
      ]
     },
     "execution_count": 15,
     "metadata": {},
     "output_type": "execute_result"
    }
   ],
   "source": [
    "df['flat_age'].value_counts()"
   ]
  },
  {
   "cell_type": "code",
   "execution_count": 16,
   "id": "34f2c318-b1ae-4b74-a0dd-6e126683ac1e",
   "metadata": {},
   "outputs": [],
   "source": [
    "status_mapping = {\n",
    "    3 : 'Relatively New',\n",
    "    1 : 'New Property',\n",
    "    4: 'Moderately Old',\n",
    "    2: 'Under Construction',\n",
    "    5 : 'Old Property',\n",
    "    6: 'Undefined'\n",
    "}\n",
    "\n",
    "df['flat_age'] = df['flat_age'].replace(status_mapping)"
   ]
  },
  {
   "cell_type": "code",
   "execution_count": 17,
   "id": "e2fb864f-dbb9-41a4-9d24-28e90d649aea",
   "metadata": {},
   "outputs": [
    {
     "data": {
      "text/plain": [
       "flat_age\n",
       "Relatively New        5441\n",
       "New Property          2267\n",
       "Moderately Old        2123\n",
       "Under Construction    1859\n",
       "Old Property           743\n",
       "Undefined                4\n",
       "Name: count, dtype: int64"
      ]
     },
     "execution_count": 17,
     "metadata": {},
     "output_type": "execute_result"
    }
   ],
   "source": [
    "df['flat_age'].value_counts()"
   ]
  },
  {
   "cell_type": "code",
   "execution_count": 18,
   "id": "f21a6c11-2e82-4007-b935-5328589ee413",
   "metadata": {},
   "outputs": [
    {
     "data": {
      "text/plain": [
       "Corner_Property\n",
       "1    8204\n",
       "0    4233\n",
       "Name: count, dtype: int64"
      ]
     },
     "execution_count": 18,
     "metadata": {},
     "output_type": "execute_result"
    }
   ],
   "source": [
    "df['Corner_Property'].value_counts()"
   ]
  },
  {
   "cell_type": "code",
   "execution_count": 19,
   "id": "d8db4534-2cb1-49b3-9559-e51176e939e0",
   "metadata": {},
   "outputs": [],
   "source": [
    "replacements = {\n",
    "    1 : 'Yes',\n",
    "    0 : 'No'\n",
    "}"
   ]
  },
  {
   "cell_type": "code",
   "execution_count": 20,
   "id": "406f60c0-bffc-4407-b059-8af81e4d2d3b",
   "metadata": {},
   "outputs": [],
   "source": [
    "df['Corner_Property'] = df['Corner_Property'].replace(replacements)"
   ]
  },
  {
   "cell_type": "code",
   "execution_count": 21,
   "id": "18aa7e25-aa8f-41c4-8c12-033854681022",
   "metadata": {},
   "outputs": [
    {
     "data": {
      "text/plain": [
       "Corner_Property\n",
       "Yes    8204\n",
       "No     4233\n",
       "Name: count, dtype: int64"
      ]
     },
     "execution_count": 21,
     "metadata": {},
     "output_type": "execute_result"
    }
   ],
   "source": [
    "df['Corner_Property'].value_counts()"
   ]
  },
  {
   "cell_type": "code",
   "execution_count": 22,
   "id": "8bb4fd01-54ff-41b6-ad0f-6d6302b7aaf5",
   "metadata": {},
   "outputs": [
    {
     "data": {
      "text/plain": [
       "Facing\n",
       "4.0    4351\n",
       "0.0    4020\n",
       "2.0    1809\n",
       "1.0     760\n",
       "5.0     557\n",
       "3.0     409\n",
       "6.0     338\n",
       "7.0     193\n",
       "Name: count, dtype: int64"
      ]
     },
     "execution_count": 22,
     "metadata": {},
     "output_type": "execute_result"
    }
   ],
   "source": [
    "df['Facing'].value_counts()"
   ]
  },
  {
   "cell_type": "code",
   "execution_count": 23,
   "id": "f14125d1-8d0c-4e6a-97e7-21da40889ed4",
   "metadata": {},
   "outputs": [],
   "source": [
    "status_mapping = {\n",
    "        \n",
    "    0.0 : 'East',\n",
    "    1.0 : 'West',\n",
    "    2.0 : 'North',\n",
    "    3.0 : 'South',\n",
    "    4.0 : 'North-East',\n",
    "    5.0 : 'North-West',\n",
    "    6.0 : 'South-East',\n",
    "    7.0 : 'South-West',\n",
    "}\n",
    "\n",
    "df['Facing'] = df['Facing'].replace(status_mapping)"
   ]
  },
  {
   "cell_type": "code",
   "execution_count": 24,
   "id": "b0aba530-8651-46e7-b05f-7081720dfce1",
   "metadata": {},
   "outputs": [
    {
     "data": {
      "text/plain": [
       "Facing\n",
       "North-East    4351\n",
       "East          4020\n",
       "North         1809\n",
       "West           760\n",
       "North-West     557\n",
       "South          409\n",
       "South-East     338\n",
       "South-West     193\n",
       "Name: count, dtype: int64"
      ]
     },
     "execution_count": 24,
     "metadata": {},
     "output_type": "execute_result"
    }
   ],
   "source": [
    "df['Facing'].value_counts()"
   ]
  },
  {
   "cell_type": "code",
   "execution_count": 25,
   "id": "98457d3f-21a4-49fa-82a2-8117cc8ddc1c",
   "metadata": {},
   "outputs": [
    {
     "data": {
      "text/plain": [
       "luxury_category\n",
       "2.0    6581\n",
       "1.0    4982\n",
       "0.0     874\n",
       "Name: count, dtype: int64"
      ]
     },
     "execution_count": 25,
     "metadata": {},
     "output_type": "execute_result"
    }
   ],
   "source": [
    "df['luxury_category'].value_counts()"
   ]
  },
  {
   "cell_type": "code",
   "execution_count": 26,
   "id": "12eaf8d2-4f72-4f98-9708-65e39a418ea7",
   "metadata": {},
   "outputs": [],
   "source": [
    "df['luxury_category'] = df['luxury_category'].replace({0.0:'Budget',1.0:'Standard',2.0:'Luxury'})"
   ]
  },
  {
   "cell_type": "code",
   "execution_count": 27,
   "id": "9f13a30a-2781-4eb3-8a14-59b8fec59e28",
   "metadata": {},
   "outputs": [
    {
     "data": {
      "text/plain": [
       "luxury_category\n",
       "Luxury      6581\n",
       "Standard    4982\n",
       "Budget       874\n",
       "Name: count, dtype: int64"
      ]
     },
     "execution_count": 27,
     "metadata": {},
     "output_type": "execute_result"
    }
   ],
   "source": [
    "df['luxury_category'].value_counts()"
   ]
  },
  {
   "cell_type": "code",
   "execution_count": 28,
   "id": "46fd7aba-2a67-41de-8a5c-b9fbd89a4696",
   "metadata": {},
   "outputs": [
    {
     "data": {
      "text/plain": [
       "floor_category\n",
       "2.0    5854\n",
       "1.0    3850\n",
       "0.0    2733\n",
       "Name: count, dtype: int64"
      ]
     },
     "execution_count": 28,
     "metadata": {},
     "output_type": "execute_result"
    }
   ],
   "source": [
    "df['floor_category'].value_counts()"
   ]
  },
  {
   "cell_type": "code",
   "execution_count": 29,
   "id": "c6777f3c-8493-4730-b8d4-3878240e0c70",
   "metadata": {},
   "outputs": [],
   "source": [
    "df['floor_category'] = df['floor_category'].replace({0.0:'Low Floor',1.0:'Mid Floor',2.0:'High Floor'})"
   ]
  },
  {
   "cell_type": "code",
   "execution_count": 30,
   "id": "de38cc03-2ad1-4d2b-97ed-9939e4ac6899",
   "metadata": {},
   "outputs": [
    {
     "data": {
      "text/plain": [
       "floor_category\n",
       "High Floor    5854\n",
       "Mid Floor     3850\n",
       "Low Floor     2733\n",
       "Name: count, dtype: int64"
      ]
     },
     "execution_count": 30,
     "metadata": {},
     "output_type": "execute_result"
    }
   ],
   "source": [
    "df['floor_category'].value_counts()"
   ]
  },
  {
   "cell_type": "code",
   "execution_count": 31,
   "id": "bf1f50c3-0a54-4b5d-89ba-4db9233f8faa",
   "metadata": {},
   "outputs": [
    {
     "data": {
      "text/plain": [
       "Furnishing\n",
       "1.0    9686\n",
       "0.0    2220\n",
       "2.0     531\n",
       "Name: count, dtype: int64"
      ]
     },
     "execution_count": 31,
     "metadata": {},
     "output_type": "execute_result"
    }
   ],
   "source": [
    "df['Furnishing'].value_counts()"
   ]
  },
  {
   "cell_type": "code",
   "execution_count": 32,
   "id": "4a6485e1-d543-487f-a9a8-fa6f95dad111",
   "metadata": {},
   "outputs": [],
   "source": [
    "status_mapping_Furnishing = {\n",
    "    0 :'Unfurnished',\n",
    "    2 : 'Furnished',\n",
    "    1: 'Semifurnished',\n",
    "\n",
    "}\n",
    "\n",
    "df['Furnishing'] = df['Furnishing'].replace(status_mapping_Furnishing)"
   ]
  },
  {
   "cell_type": "code",
   "execution_count": 33,
   "id": "cce6c61c-8077-47a7-8ff4-63846bfa131e",
   "metadata": {},
   "outputs": [
    {
     "data": {
      "text/plain": [
       "Furnishing\n",
       "Semifurnished    9686\n",
       "Unfurnished      2220\n",
       "Furnished         531\n",
       "Name: count, dtype: int64"
      ]
     },
     "execution_count": 33,
     "metadata": {},
     "output_type": "execute_result"
    }
   ],
   "source": [
    "df['Furnishing'].value_counts()"
   ]
  },
  {
   "cell_type": "code",
   "execution_count": 34,
   "id": "017ad3a2-35c4-4720-8d54-ab485d2aeb15",
   "metadata": {},
   "outputs": [
    {
     "name": "stdout",
     "output_type": "stream",
     "text": [
      "<class 'pandas.core.frame.DataFrame'>\n",
      "RangeIndex: 12437 entries, 0 to 12436\n",
      "Data columns (total 20 columns):\n",
      " #   Column                 Non-Null Count  Dtype  \n",
      "---  ------                 --------------  -----  \n",
      " 0   Facing                 12437 non-null  object \n",
      " 1   No_Bedroom             12437 non-null  int64  \n",
      " 2   No_Bathroom            12437 non-null  float64\n",
      " 3   No_Balcony             12437 non-null  object \n",
      " 4   Corner_Property        12437 non-null  object \n",
      " 5   Furnishing             12437 non-null  object \n",
      " 6   study room             12437 non-null  int64  \n",
      " 7   servant room           12437 non-null  int64  \n",
      " 8   store room             12437 non-null  int64  \n",
      " 9   pooja room             12437 non-null  int64  \n",
      " 10  Overlooking_main road  12437 non-null  int64  \n",
      " 11  Overlooking_club       12437 non-null  int64  \n",
      " 12  Overlooking_pool       12437 non-null  int64  \n",
      " 13  Overlooking_NA         12437 non-null  int64  \n",
      " 14  flat_age               12437 non-null  object \n",
      " 15  sector_num             12437 non-null  int64  \n",
      " 16  Super Built-up Area    12437 non-null  float64\n",
      " 17  luxury_category        12437 non-null  object \n",
      " 18  floor_category         12437 non-null  object \n",
      " 19  price                  12437 non-null  float64\n",
      "dtypes: float64(3), int64(10), object(7)\n",
      "memory usage: 1.9+ MB\n"
     ]
    }
   ],
   "source": [
    "df.info()"
   ]
  },
  {
   "cell_type": "code",
   "execution_count": 35,
   "id": "0e5642cd-f0d6-43af-b909-cee36a5439d9",
   "metadata": {},
   "outputs": [
    {
     "data": {
      "text/plain": [
       "Index(['Facing', 'No_Bedroom', 'No_Bathroom', 'No_Balcony', 'Corner_Property',\n",
       "       'Furnishing', 'study room', 'servant room', 'store room', 'pooja room',\n",
       "       'Overlooking_main road', 'Overlooking_club', 'Overlooking_pool',\n",
       "       'Overlooking_NA', 'flat_age', 'sector_num', 'Super Built-up Area',\n",
       "       'luxury_category', 'floor_category', 'price'],\n",
       "      dtype='object')"
      ]
     },
     "execution_count": 35,
     "metadata": {},
     "output_type": "execute_result"
    }
   ],
   "source": [
    "df.columns"
   ]
  },
  {
   "cell_type": "code",
   "execution_count": 36,
   "id": "0ddfd2a5-f065-403f-968a-c41f07476bfa",
   "metadata": {},
   "outputs": [
    {
     "data": {
      "text/plain": [
       "(12437, 20)"
      ]
     },
     "execution_count": 36,
     "metadata": {},
     "output_type": "execute_result"
    }
   ],
   "source": [
    "df.shape\n"
   ]
  },
  {
   "cell_type": "code",
   "execution_count": 37,
   "id": "1baab6db-c874-4ffb-8956-4ddf57acc6f3",
   "metadata": {},
   "outputs": [],
   "source": [
    "df['sector_num'] = df['sector_num'].astype('object')"
   ]
  },
  {
   "cell_type": "code",
   "execution_count": 38,
   "id": "67bd890f-70a2-4bdc-9250-f154cb0ca852",
   "metadata": {},
   "outputs": [
    {
     "data": {
      "text/html": [
       "<div>\n",
       "<style scoped>\n",
       "    .dataframe tbody tr th:only-of-type {\n",
       "        vertical-align: middle;\n",
       "    }\n",
       "\n",
       "    .dataframe tbody tr th {\n",
       "        vertical-align: top;\n",
       "    }\n",
       "\n",
       "    .dataframe thead th {\n",
       "        text-align: right;\n",
       "    }\n",
       "</style>\n",
       "<table border=\"1\" class=\"dataframe\">\n",
       "  <thead>\n",
       "    <tr style=\"text-align: right;\">\n",
       "      <th></th>\n",
       "      <th>Facing</th>\n",
       "      <th>No_Bedroom</th>\n",
       "      <th>No_Bathroom</th>\n",
       "      <th>No_Balcony</th>\n",
       "      <th>Corner_Property</th>\n",
       "      <th>Furnishing</th>\n",
       "      <th>study room</th>\n",
       "      <th>servant room</th>\n",
       "      <th>store room</th>\n",
       "      <th>pooja room</th>\n",
       "      <th>Overlooking_main road</th>\n",
       "      <th>Overlooking_club</th>\n",
       "      <th>Overlooking_pool</th>\n",
       "      <th>Overlooking_NA</th>\n",
       "      <th>flat_age</th>\n",
       "      <th>sector_num</th>\n",
       "      <th>Super Built-up Area</th>\n",
       "      <th>luxury_category</th>\n",
       "      <th>floor_category</th>\n",
       "      <th>price</th>\n",
       "    </tr>\n",
       "  </thead>\n",
       "  <tbody>\n",
       "    <tr>\n",
       "      <th>0</th>\n",
       "      <td>West</td>\n",
       "      <td>2</td>\n",
       "      <td>2.0</td>\n",
       "      <td>1</td>\n",
       "      <td>No</td>\n",
       "      <td>Unfurnished</td>\n",
       "      <td>0</td>\n",
       "      <td>0</td>\n",
       "      <td>1</td>\n",
       "      <td>0</td>\n",
       "      <td>1</td>\n",
       "      <td>0</td>\n",
       "      <td>0</td>\n",
       "      <td>0</td>\n",
       "      <td>Relatively New</td>\n",
       "      <td>90</td>\n",
       "      <td>690.0</td>\n",
       "      <td>Luxury</td>\n",
       "      <td>Low Floor</td>\n",
       "      <td>0.61</td>\n",
       "    </tr>\n",
       "    <tr>\n",
       "      <th>1</th>\n",
       "      <td>South</td>\n",
       "      <td>2</td>\n",
       "      <td>2.0</td>\n",
       "      <td>1</td>\n",
       "      <td>No</td>\n",
       "      <td>Unfurnished</td>\n",
       "      <td>0</td>\n",
       "      <td>0</td>\n",
       "      <td>1</td>\n",
       "      <td>0</td>\n",
       "      <td>1</td>\n",
       "      <td>0</td>\n",
       "      <td>0</td>\n",
       "      <td>0</td>\n",
       "      <td>Relatively New</td>\n",
       "      <td>90</td>\n",
       "      <td>690.0</td>\n",
       "      <td>Luxury</td>\n",
       "      <td>High Floor</td>\n",
       "      <td>0.70</td>\n",
       "    </tr>\n",
       "    <tr>\n",
       "      <th>2</th>\n",
       "      <td>North-East</td>\n",
       "      <td>2</td>\n",
       "      <td>2.0</td>\n",
       "      <td>1</td>\n",
       "      <td>Yes</td>\n",
       "      <td>Semifurnished</td>\n",
       "      <td>0</td>\n",
       "      <td>0</td>\n",
       "      <td>0</td>\n",
       "      <td>0</td>\n",
       "      <td>1</td>\n",
       "      <td>1</td>\n",
       "      <td>0</td>\n",
       "      <td>0</td>\n",
       "      <td>Relatively New</td>\n",
       "      <td>70</td>\n",
       "      <td>836.0</td>\n",
       "      <td>Luxury</td>\n",
       "      <td>High Floor</td>\n",
       "      <td>0.71</td>\n",
       "    </tr>\n",
       "    <tr>\n",
       "      <th>3</th>\n",
       "      <td>East</td>\n",
       "      <td>2</td>\n",
       "      <td>2.0</td>\n",
       "      <td>2</td>\n",
       "      <td>Yes</td>\n",
       "      <td>Semifurnished</td>\n",
       "      <td>0</td>\n",
       "      <td>0</td>\n",
       "      <td>0</td>\n",
       "      <td>0</td>\n",
       "      <td>1</td>\n",
       "      <td>1</td>\n",
       "      <td>1</td>\n",
       "      <td>0</td>\n",
       "      <td>New Property</td>\n",
       "      <td>68</td>\n",
       "      <td>1260.0</td>\n",
       "      <td>Luxury</td>\n",
       "      <td>High Floor</td>\n",
       "      <td>1.55</td>\n",
       "    </tr>\n",
       "    <tr>\n",
       "      <th>4</th>\n",
       "      <td>North</td>\n",
       "      <td>2</td>\n",
       "      <td>2.0</td>\n",
       "      <td>3+</td>\n",
       "      <td>Yes</td>\n",
       "      <td>Semifurnished</td>\n",
       "      <td>0</td>\n",
       "      <td>0</td>\n",
       "      <td>0</td>\n",
       "      <td>0</td>\n",
       "      <td>0</td>\n",
       "      <td>1</td>\n",
       "      <td>1</td>\n",
       "      <td>0</td>\n",
       "      <td>Relatively New</td>\n",
       "      <td>107</td>\n",
       "      <td>1366.0</td>\n",
       "      <td>Luxury</td>\n",
       "      <td>Mid Floor</td>\n",
       "      <td>1.30</td>\n",
       "    </tr>\n",
       "  </tbody>\n",
       "</table>\n",
       "</div>"
      ],
      "text/plain": [
       "       Facing  No_Bedroom  No_Bathroom No_Balcony Corner_Property  \\\n",
       "0        West           2          2.0          1              No   \n",
       "1       South           2          2.0          1              No   \n",
       "2  North-East           2          2.0          1             Yes   \n",
       "3        East           2          2.0          2             Yes   \n",
       "4       North           2          2.0         3+             Yes   \n",
       "\n",
       "      Furnishing  study room  servant room  store room  pooja room  \\\n",
       "0    Unfurnished           0             0           1           0   \n",
       "1    Unfurnished           0             0           1           0   \n",
       "2  Semifurnished           0             0           0           0   \n",
       "3  Semifurnished           0             0           0           0   \n",
       "4  Semifurnished           0             0           0           0   \n",
       "\n",
       "   Overlooking_main road  Overlooking_club  Overlooking_pool  Overlooking_NA  \\\n",
       "0                      1                 0                 0               0   \n",
       "1                      1                 0                 0               0   \n",
       "2                      1                 1                 0               0   \n",
       "3                      1                 1                 1               0   \n",
       "4                      0                 1                 1               0   \n",
       "\n",
       "         flat_age sector_num  Super Built-up Area luxury_category  \\\n",
       "0  Relatively New         90                690.0          Luxury   \n",
       "1  Relatively New         90                690.0          Luxury   \n",
       "2  Relatively New         70                836.0          Luxury   \n",
       "3    New Property         68               1260.0          Luxury   \n",
       "4  Relatively New        107               1366.0          Luxury   \n",
       "\n",
       "  floor_category  price  \n",
       "0      Low Floor   0.61  \n",
       "1     High Floor   0.70  \n",
       "2     High Floor   0.71  \n",
       "3     High Floor   1.55  \n",
       "4      Mid Floor   1.30  "
      ]
     },
     "execution_count": 38,
     "metadata": {},
     "output_type": "execute_result"
    }
   ],
   "source": [
    "df.head()"
   ]
  },
  {
   "cell_type": "code",
   "execution_count": 39,
   "id": "ffc50d2f-3043-43da-8d14-c69c9a142db8",
   "metadata": {},
   "outputs": [],
   "source": [
    "df = df[df['price'] <= 20]"
   ]
  },
  {
   "cell_type": "code",
   "execution_count": 40,
   "id": "9e954089-b5e4-4e12-b722-6eabb2d51526",
   "metadata": {},
   "outputs": [
    {
     "name": "stdout",
     "output_type": "stream",
     "text": [
      "<class 'pandas.core.frame.DataFrame'>\n",
      "Index: 12360 entries, 0 to 12436\n",
      "Data columns (total 20 columns):\n",
      " #   Column                 Non-Null Count  Dtype  \n",
      "---  ------                 --------------  -----  \n",
      " 0   Facing                 12360 non-null  object \n",
      " 1   No_Bedroom             12360 non-null  int64  \n",
      " 2   No_Bathroom            12360 non-null  float64\n",
      " 3   No_Balcony             12360 non-null  object \n",
      " 4   Corner_Property        12360 non-null  object \n",
      " 5   Furnishing             12360 non-null  object \n",
      " 6   study room             12360 non-null  int64  \n",
      " 7   servant room           12360 non-null  int64  \n",
      " 8   store room             12360 non-null  int64  \n",
      " 9   pooja room             12360 non-null  int64  \n",
      " 10  Overlooking_main road  12360 non-null  int64  \n",
      " 11  Overlooking_club       12360 non-null  int64  \n",
      " 12  Overlooking_pool       12360 non-null  int64  \n",
      " 13  Overlooking_NA         12360 non-null  int64  \n",
      " 14  flat_age               12360 non-null  object \n",
      " 15  sector_num             12360 non-null  object \n",
      " 16  Super Built-up Area    12360 non-null  float64\n",
      " 17  luxury_category        12360 non-null  object \n",
      " 18  floor_category         12360 non-null  object \n",
      " 19  price                  12360 non-null  float64\n",
      "dtypes: float64(3), int64(9), object(8)\n",
      "memory usage: 2.0+ MB\n"
     ]
    }
   ],
   "source": [
    "df.info()"
   ]
  },
  {
   "cell_type": "code",
   "execution_count": 41,
   "id": "c05d6d79-1324-4a39-b811-9dae58c2a05b",
   "metadata": {},
   "outputs": [],
   "source": [
    "df.to_csv('gurgaon_properties_post_feature_selection_v2.csv')"
   ]
  },
  {
   "cell_type": "code",
   "execution_count": 42,
   "id": "ad36f87a-c1f4-478b-a254-2d2f18677f81",
   "metadata": {},
   "outputs": [
    {
     "data": {
      "text/plain": [
       "count    12360.000000\n",
       "mean         3.209152\n",
       "std          2.456234\n",
       "min          0.160000\n",
       "25%          1.750000\n",
       "50%          2.450000\n",
       "75%          3.890000\n",
       "max         20.000000\n",
       "Name: price, dtype: float64"
      ]
     },
     "execution_count": 42,
     "metadata": {},
     "output_type": "execute_result"
    }
   ],
   "source": [
    "df['price'].describe()"
   ]
  },
  {
   "cell_type": "code",
   "execution_count": 43,
   "id": "89fa35b8-e994-4be0-aba0-c40a97409c3d",
   "metadata": {},
   "outputs": [],
   "source": [
    "X = df.drop(columns=['price'])\n",
    "y = df['price']"
   ]
  },
  {
   "cell_type": "code",
   "execution_count": 44,
   "id": "7c1c1961-83e2-410c-97cb-b185a19c25ba",
   "metadata": {},
   "outputs": [],
   "source": [
    "y_transformed = np.log1p(y)"
   ]
  },
  {
   "cell_type": "code",
   "execution_count": 45,
   "id": "97931996-5383-4f9d-a776-4f98b326f49c",
   "metadata": {},
   "outputs": [
    {
     "data": {
      "text/plain": [
       "1.791759469228055"
      ]
     },
     "execution_count": 45,
     "metadata": {},
     "output_type": "execute_result"
    }
   ],
   "source": [
    "np.log1p(5)"
   ]
  },
  {
   "cell_type": "code",
   "execution_count": 46,
   "id": "687254d4-9307-4ac2-8c9e-6fc6e5863306",
   "metadata": {},
   "outputs": [
    {
     "data": {
      "text/plain": [
       "5.0"
      ]
     },
     "execution_count": 46,
     "metadata": {},
     "output_type": "execute_result"
    }
   ],
   "source": [
    "np.expm1(1.791759469228055)"
   ]
  },
  {
   "cell_type": "code",
   "execution_count": 47,
   "id": "a1135d45-dbc1-467f-af90-8d32057c009b",
   "metadata": {},
   "outputs": [],
   "source": [
    "import category_encoders as ce\n",
    "\n",
    "columns_to_encode = ['Facing','Corner_Property', 'No_Balcony', 'flat_age', 'Furnishing', 'luxury_category', 'floor_category']\n",
    "\n",
    "preprocessor = ColumnTransformer(\n",
    "    transformers = [\n",
    "        ('num' , StandardScaler(), ['No_Bedroom', 'No_Bathroom', 'study room', 'servant room', 'store room', 'pooja room','Overlooking_main road', 'Overlooking_club','Overlooking_pool', 'Overlooking_NA', 'Super Built-up Area']),\n",
    "        ('cat' , OrdinalEncoder(), columns_to_encode),\n",
    "        ('target_enc', ce.TargetEncoder(), ['sector_num'])\n",
    "\n",
    "    ],\n",
    "    remainder = 'passthrough'\n",
    ")"
   ]
  },
  {
   "cell_type": "code",
   "execution_count": 48,
   "id": "fc972230-9db4-4154-b87d-979b1e462648",
   "metadata": {},
   "outputs": [],
   "source": [
    "from sklearn.ensemble import RandomForestRegressor\n",
    "pipeline = Pipeline([\n",
    "    ('preprocessor', preprocessor),\n",
    "    ('regressor', RandomForestRegressor())\n",
    "])"
   ]
  },
  {
   "cell_type": "code",
   "execution_count": 49,
   "id": "84d6c72f-0d6e-4bc6-8591-6675d1c4f978",
   "metadata": {},
   "outputs": [
    {
     "name": "stdout",
     "output_type": "stream",
     "text": [
      "Mean Absolute Error (MAE): 0.3909501646368445\n",
      "R^2 Score: 0.9012791209971859\n"
     ]
    }
   ],
   "source": [
    "from sklearn.metrics import mean_squared_error, r2_score\n",
    "X_train, X_test, y_train, y_test = train_test_split(X,y_transformed,test_size=0.2,random_state=42)\n",
    "    \n",
    "pipeline.fit(X_train,y_train)\n",
    "    \n",
    "y_pred = pipeline.predict(X_test)\n",
    "    \n",
    "y_pred = np.expm1(y_pred)\n",
    "    \n",
    "mae = mean_absolute_error(np.expm1(y_test),y_pred)\n",
    "r2 = r2_score(np.expm1(y_test),y_pred)\n",
    "print(\"Mean Absolute Error (MAE):\", mae)\n",
    "print(\"R^2 Score:\", r2)"
   ]
  },
  {
   "cell_type": "code",
   "execution_count": 50,
   "id": "f9c88284-8ad8-4642-89c7-f5c575a30095",
   "metadata": {},
   "outputs": [],
   "source": [
    "def scorer(model_name, model):\n",
    "    output = []\n",
    "    output.append(model_name)\n",
    "\n",
    "    pipeline = Pipeline([\n",
    "        ('preprocessor', preprocessor),\n",
    "        ('regressor', model)\n",
    "    ])\n",
    "\n",
    "    X_train, X_test, y_train, y_test = train_test_split(X, y_transformed, test_size=0.2, random_state=42)\n",
    "    \n",
    "    try:\n",
    "        pipeline.fit(X_train, y_train)\n",
    "        y_pred = pipeline.predict(X_test)\n",
    "        y_pred = np.expm1(y_pred)\n",
    "\n",
    "        output.append(r2_score(np.expm1(y_test), y_pred))\n",
    "        output.append(mean_absolute_error(np.expm1(y_test), y_pred))\n",
    "    except ValueError as e:\n",
    "        print(f\"Error with model {model_name}: {e}\")\n",
    "        output.append(None)\n",
    "        output.append(None)\n",
    "\n",
    "    return output"
   ]
  },
  {
   "cell_type": "code",
   "execution_count": 51,
   "id": "4cb1a613-3555-4691-999e-8b97e4827f0b",
   "metadata": {},
   "outputs": [],
   "source": [
    "from sklearn.linear_model import LinearRegression, Ridge\n",
    "from sklearn.svm import SVR\n",
    "from sklearn.tree import DecisionTreeRegressor\n",
    "from sklearn.ensemble import RandomForestRegressor, ExtraTreesRegressor, GradientBoostingRegressor, AdaBoostRegressor, BaggingRegressor\n",
    "from sklearn.neural_network import MLPRegressor\n",
    "from sklearn.kernel_ridge import KernelRidge\n",
    "from sklearn.gaussian_process import GaussianProcessRegressor\n",
    "from xgboost import XGBRegressor\n",
    "from lightgbm import LGBMRegressor\n",
    "from ngboost import NGBRegressor\n",
    "from sklearn.ensemble import HistGradientBoostingRegressor\n",
    "\n",
    "model_dict = {\n",
    "    'linear_reg': LinearRegression(),\n",
    "    'svr': SVR(),\n",
    "    'ridge': Ridge(),\n",
    "    'decision_tree': DecisionTreeRegressor(),\n",
    "    'random_forest': RandomForestRegressor(),\n",
    "    'extra_trees': ExtraTreesRegressor(),\n",
    "    'gradient_boosting': GradientBoostingRegressor(),\n",
    "    'adaboost': AdaBoostRegressor(),\n",
    "    'mlp': MLPRegressor(),\n",
    "    'xgboost': XGBRegressor(),\n",
    "    'lightgbm': LGBMRegressor(),    \n",
    "    #'ngboost': NGBRegressor(), \n",
    "    'hist_gradient_boosting': HistGradientBoostingRegressor(),  \n",
    "    'bagging': BaggingRegressor(), \n",
    "    'kernel_ridge': KernelRidge(),     \n",
    "}\n"
   ]
  },
  {
   "cell_type": "code",
   "execution_count": 52,
   "id": "93cf4904-69a8-4113-a25b-7fb9687a7298",
   "metadata": {},
   "outputs": [
    {
     "name": "stdout",
     "output_type": "stream",
     "text": [
      "[LightGBM] [Info] Auto-choosing row-wise multi-threading, the overhead of testing was 0.001925 seconds.\n",
      "You can set `force_row_wise=true` to remove the overhead.\n",
      "And if memory is not enough, you can set `force_col_wise=true`.\n",
      "[LightGBM] [Info] Total Bins 403\n",
      "[LightGBM] [Info] Number of data points in the train set: 9888, number of used features: 19\n",
      "[LightGBM] [Info] Start training from score 1.314906\n"
     ]
    }
   ],
   "source": [
    "model_output = []\n",
    "for model_name,model in model_dict.items():\n",
    "    model_output.append(scorer(model_name, model))"
   ]
  },
  {
   "cell_type": "code",
   "execution_count": 53,
   "id": "4982d3a0-35f7-4b29-a47f-1add634c8e14",
   "metadata": {},
   "outputs": [],
   "source": [
    "model_df = pd.DataFrame(model_output, columns=['name','r2','mae'])"
   ]
  },
  {
   "cell_type": "code",
   "execution_count": 54,
   "id": "bc9c57f6-b944-4eee-88d2-7aae45294bcb",
   "metadata": {},
   "outputs": [
    {
     "data": {
      "text/html": [
       "<div>\n",
       "<style scoped>\n",
       "    .dataframe tbody tr th:only-of-type {\n",
       "        vertical-align: middle;\n",
       "    }\n",
       "\n",
       "    .dataframe tbody tr th {\n",
       "        vertical-align: top;\n",
       "    }\n",
       "\n",
       "    .dataframe thead th {\n",
       "        text-align: right;\n",
       "    }\n",
       "</style>\n",
       "<table border=\"1\" class=\"dataframe\">\n",
       "  <thead>\n",
       "    <tr style=\"text-align: right;\">\n",
       "      <th></th>\n",
       "      <th>name</th>\n",
       "      <th>r2</th>\n",
       "      <th>mae</th>\n",
       "    </tr>\n",
       "  </thead>\n",
       "  <tbody>\n",
       "    <tr>\n",
       "      <th>4</th>\n",
       "      <td>random_forest</td>\n",
       "      <td>0.901665</td>\n",
       "      <td>0.389366</td>\n",
       "    </tr>\n",
       "    <tr>\n",
       "      <th>12</th>\n",
       "      <td>bagging</td>\n",
       "      <td>0.888226</td>\n",
       "      <td>0.416266</td>\n",
       "    </tr>\n",
       "    <tr>\n",
       "      <th>5</th>\n",
       "      <td>extra_trees</td>\n",
       "      <td>0.890925</td>\n",
       "      <td>0.416283</td>\n",
       "    </tr>\n",
       "    <tr>\n",
       "      <th>9</th>\n",
       "      <td>xgboost</td>\n",
       "      <td>0.903004</td>\n",
       "      <td>0.418389</td>\n",
       "    </tr>\n",
       "    <tr>\n",
       "      <th>11</th>\n",
       "      <td>hist_gradient_boosting</td>\n",
       "      <td>0.887244</td>\n",
       "      <td>0.472199</td>\n",
       "    </tr>\n",
       "    <tr>\n",
       "      <th>10</th>\n",
       "      <td>lightgbm</td>\n",
       "      <td>0.887588</td>\n",
       "      <td>0.472676</td>\n",
       "    </tr>\n",
       "    <tr>\n",
       "      <th>3</th>\n",
       "      <td>decision_tree</td>\n",
       "      <td>0.807745</td>\n",
       "      <td>0.498421</td>\n",
       "    </tr>\n",
       "    <tr>\n",
       "      <th>6</th>\n",
       "      <td>gradient_boosting</td>\n",
       "      <td>0.851756</td>\n",
       "      <td>0.552469</td>\n",
       "    </tr>\n",
       "    <tr>\n",
       "      <th>1</th>\n",
       "      <td>svr</td>\n",
       "      <td>0.815345</td>\n",
       "      <td>0.609907</td>\n",
       "    </tr>\n",
       "    <tr>\n",
       "      <th>8</th>\n",
       "      <td>mlp</td>\n",
       "      <td>0.812433</td>\n",
       "      <td>0.628215</td>\n",
       "    </tr>\n",
       "    <tr>\n",
       "      <th>7</th>\n",
       "      <td>adaboost</td>\n",
       "      <td>0.786769</td>\n",
       "      <td>0.683378</td>\n",
       "    </tr>\n",
       "    <tr>\n",
       "      <th>0</th>\n",
       "      <td>linear_reg</td>\n",
       "      <td>0.756452</td>\n",
       "      <td>0.694013</td>\n",
       "    </tr>\n",
       "    <tr>\n",
       "      <th>2</th>\n",
       "      <td>ridge</td>\n",
       "      <td>0.756338</td>\n",
       "      <td>0.694081</td>\n",
       "    </tr>\n",
       "    <tr>\n",
       "      <th>13</th>\n",
       "      <td>kernel_ridge</td>\n",
       "      <td>0.758578</td>\n",
       "      <td>0.707235</td>\n",
       "    </tr>\n",
       "  </tbody>\n",
       "</table>\n",
       "</div>"
      ],
      "text/plain": [
       "                      name        r2       mae\n",
       "4            random_forest  0.901665  0.389366\n",
       "12                 bagging  0.888226  0.416266\n",
       "5              extra_trees  0.890925  0.416283\n",
       "9                  xgboost  0.903004  0.418389\n",
       "11  hist_gradient_boosting  0.887244  0.472199\n",
       "10                lightgbm  0.887588  0.472676\n",
       "3            decision_tree  0.807745  0.498421\n",
       "6        gradient_boosting  0.851756  0.552469\n",
       "1                      svr  0.815345  0.609907\n",
       "8                      mlp  0.812433  0.628215\n",
       "7                 adaboost  0.786769  0.683378\n",
       "0               linear_reg  0.756452  0.694013\n",
       "2                    ridge  0.756338  0.694081\n",
       "13            kernel_ridge  0.758578  0.707235"
      ]
     },
     "execution_count": 54,
     "metadata": {},
     "output_type": "execute_result"
    }
   ],
   "source": [
    "model_df.sort_values(['mae'])"
   ]
  },
  {
   "cell_type": "code",
   "execution_count": 55,
   "id": "6138f90f-8d04-4465-83b0-01b7dae15225",
   "metadata": {},
   "outputs": [],
   "source": [
    "from hyperopt import fmin, tpe, hp, Trials, STATUS_OK\n",
    "from hyperopt.pyll.base import scope\n",
    "from xgboost import XGBRegressor\n",
    "from sklearn.model_selection import cross_val_score, KFold\n",
    "from sklearn.metrics import mean_squared_error, r2_score\n",
    "from tqdm import tqdm\n",
    "from sklearn.datasets import make_regression\n",
    "import os\n",
    "from sklearn.model_selection import train_test_split"
   ]
  },
  {
   "cell_type": "code",
   "execution_count": 57,
   "id": "842d0033-e371-4895-873b-9a7fd3915ee6",
   "metadata": {},
   "outputs": [
    {
     "name": "stderr",
     "output_type": "stream",
     "text": [
      "Hyperparameter Tuning:   0%|                                                                    | 0/80 [00:00<?, ?it/s]"
     ]
    },
    {
     "name": "stdout",
     "output_type": "stream",
     "text": [
      "\n",
      "  0%|                                                                           | 0/80 [00:00<?, ?trial/s, best loss=?]\u001b[A\n",
      "  1%|▌                                               | 1/80 [00:07<09:53,  7.51s/trial, best loss: 0.42296199591104217]\u001b[A\n",
      "  2%|█▏                                              | 2/80 [00:15<09:52,  7.60s/trial, best loss: 0.42296199591104217]\u001b[A\n",
      "  4%|█▊                                              | 3/80 [00:24<10:35,  8.25s/trial, best loss: 0.42296199591104217]\u001b[A\n",
      "  5%|██▍                                             | 4/80 [00:30<09:25,  7.43s/trial, best loss: 0.42296199591104217]\u001b[A\n",
      "  6%|███                                             | 5/80 [00:40<10:20,  8.27s/trial, best loss: 0.42296199591104217]\u001b[A\n",
      "  8%|███▌                                            | 6/80 [00:55<13:01, 10.57s/trial, best loss: 0.42296199591104217]\u001b[A\n",
      "  9%|████▏                                           | 7/80 [01:03<12:05,  9.94s/trial, best loss: 0.42296199591104217]\u001b[A\n",
      " 10%|████▉                                            | 8/80 [01:14<12:19, 10.27s/trial, best loss: 0.3852869548097817]\u001b[A\n",
      " 11%|█████▌                                           | 9/80 [01:26<12:43, 10.75s/trial, best loss: 0.3852869548097817]\u001b[A\n",
      " 12%|██████                                          | 10/80 [01:37<12:43, 10.91s/trial, best loss: 0.3852869548097817]\u001b[A\n",
      " 14%|██████▌                                         | 11/80 [01:49<12:53, 11.21s/trial, best loss: 0.3852869548097817]\u001b[A\n",
      " 15%|███████▏                                        | 12/80 [02:04<13:58, 12.33s/trial, best loss: 0.3852869548097817]\u001b[A\n",
      " 16%|███████▊                                        | 13/80 [02:15<13:07, 11.75s/trial, best loss: 0.3852869548097817]\u001b[A\n",
      " 18%|████████▍                                       | 14/80 [02:25<12:23, 11.27s/trial, best loss: 0.3852869548097817]\u001b[A\n",
      " 19%|█████████                                       | 15/80 [02:34<11:43, 10.82s/trial, best loss: 0.3852869548097817]\u001b[A\n",
      " 20%|█████████▌                                      | 16/80 [02:46<11:49, 11.08s/trial, best loss: 0.3852869548097817]\u001b[A\n",
      " 21%|██████████▏                                     | 17/80 [02:52<09:59,  9.52s/trial, best loss: 0.3852869548097817]\u001b[A\n",
      " 22%|██████████▊                                     | 18/80 [02:56<08:14,  7.98s/trial, best loss: 0.3852869548097817]\u001b[A\n",
      " 24%|███████████▍                                    | 19/80 [03:03<07:38,  7.51s/trial, best loss: 0.3852869548097817]\u001b[A\n",
      " 25%|████████████                                    | 20/80 [03:09<07:05,  7.09s/trial, best loss: 0.3852869548097817]\u001b[A\n",
      " 26%|████████████▌                                   | 21/80 [03:13<05:59,  6.10s/trial, best loss: 0.3852869548097817]\u001b[A\n",
      " 28%|█████████████▏                                  | 22/80 [03:19<05:55,  6.13s/trial, best loss: 0.3852869548097817]\u001b[A\n",
      " 29%|█████████████▊                                  | 23/80 [03:24<05:34,  5.86s/trial, best loss: 0.3852869548097817]\u001b[A\n",
      " 30%|██████████████▍                                 | 24/80 [03:31<05:47,  6.20s/trial, best loss: 0.3852869548097817]\u001b[A\n",
      " 31%|███████████████                                 | 25/80 [03:35<05:00,  5.47s/trial, best loss: 0.3852869548097817]\u001b[A\n",
      " 32%|███████████████▌                                | 26/80 [03:44<05:45,  6.40s/trial, best loss: 0.3852869548097817]\u001b[A\n",
      " 34%|████████████████▏                               | 27/80 [03:57<07:26,  8.42s/trial, best loss: 0.3852869548097817]\u001b[A\n",
      " 35%|████████████████▊                               | 28/80 [04:01<06:11,  7.14s/trial, best loss: 0.3852869548097817]\u001b[A\n",
      " 36%|█████████████████▍                              | 29/80 [04:06<05:39,  6.66s/trial, best loss: 0.3852869548097817]\u001b[A\n",
      " 38%|██████████████████                              | 30/80 [04:16<06:12,  7.45s/trial, best loss: 0.3852869548097817]\u001b[A\n",
      " 39%|██████████████████▌                             | 31/80 [04:21<05:29,  6.72s/trial, best loss: 0.3852869548097817]\u001b[A\n",
      " 40%|███████████████████▏                            | 32/80 [04:29<05:52,  7.35s/trial, best loss: 0.3852869548097817]\u001b[A\n",
      " 41%|███████████████████▊                            | 33/80 [04:33<04:57,  6.33s/trial, best loss: 0.3852869548097817]\u001b[A\n",
      " 42%|████████████████████▍                           | 34/80 [04:46<06:11,  8.07s/trial, best loss: 0.3852869548097817]\u001b[A\n",
      " 44%|█████████████████████                           | 35/80 [04:56<06:32,  8.72s/trial, best loss: 0.3852869548097817]\u001b[A\n",
      " 45%|█████████████████████▌                          | 36/80 [05:07<07:02,  9.60s/trial, best loss: 0.3852869548097817]\u001b[A\n",
      " 46%|██████████████████████▏                         | 37/80 [05:14<06:07,  8.56s/trial, best loss: 0.3852869548097817]\u001b[A\n",
      " 48%|██████████████████████▊                         | 38/80 [05:21<05:49,  8.32s/trial, best loss: 0.3852869548097817]\u001b[A\n",
      " 49%|███████████████████████▍                        | 39/80 [05:26<05:00,  7.32s/trial, best loss: 0.3852869548097817]\u001b[A\n",
      " 50%|████████████████████████                        | 40/80 [05:30<04:04,  6.12s/trial, best loss: 0.3852869548097817]\u001b[A\n",
      " 51%|████████████████████████▌                       | 41/80 [05:38<04:18,  6.64s/trial, best loss: 0.3852869548097817]\u001b[A\n",
      " 52%|█████████████████████████▏                      | 42/80 [05:47<04:46,  7.53s/trial, best loss: 0.3852869548097817]\u001b[A\n",
      " 54%|█████████████████████████▊                      | 43/80 [05:57<05:01,  8.14s/trial, best loss: 0.3852869548097817]\u001b[A\n",
      " 55%|██████████████████████████▍                     | 44/80 [06:05<04:52,  8.13s/trial, best loss: 0.3852869548097817]\u001b[A\n",
      " 56%|███████████████████████████                     | 45/80 [06:11<04:23,  7.53s/trial, best loss: 0.3852869548097817]\u001b[A\n",
      " 57%|███████████████████████████▌                    | 46/80 [06:19<04:23,  7.75s/trial, best loss: 0.3852869548097817]\u001b[A\n",
      " 59%|████████████████████████████▏                   | 47/80 [06:30<04:47,  8.71s/trial, best loss: 0.3852869548097817]\u001b[A\n",
      " 60%|████████████████████████████▊                   | 48/80 [06:35<04:02,  7.58s/trial, best loss: 0.3852869548097817]\u001b[A\n",
      " 61%|█████████████████████████████▍                  | 49/80 [06:41<03:35,  6.94s/trial, best loss: 0.3852869548097817]\u001b[A\n",
      " 62%|██████████████████████████████                  | 50/80 [06:47<03:20,  6.68s/trial, best loss: 0.3852869548097817]\u001b[A\n",
      " 64%|██████████████████████████████▌                 | 51/80 [06:52<03:03,  6.34s/trial, best loss: 0.3852869548097817]\u001b[A\n",
      " 65%|███████████████████████████████▏                | 52/80 [07:04<03:41,  7.90s/trial, best loss: 0.3852869548097817]\u001b[A\n",
      " 66%|███████████████████████████████▏               | 53/80 [07:26<05:29, 12.21s/trial, best loss: 0.38328815376130076]\u001b[A\n",
      " 68%|███████████████████████████████▋               | 54/80 [07:38<05:15, 12.13s/trial, best loss: 0.38328815376130076]\u001b[A\n",
      " 69%|████████████████████████████████▎              | 55/80 [07:45<04:27, 10.71s/trial, best loss: 0.38328815376130076]\u001b[A\n",
      " 70%|████████████████████████████████▉              | 56/80 [07:50<03:32,  8.85s/trial, best loss: 0.38328815376130076]\u001b[A\n",
      " 71%|█████████████████████████████████▍             | 57/80 [07:59<03:22,  8.83s/trial, best loss: 0.38328815376130076]\u001b[A\n",
      " 72%|██████████████████████████████████             | 58/80 [08:03<02:47,  7.63s/trial, best loss: 0.38328815376130076]\u001b[A\n",
      " 74%|██████████████████████████████████▋            | 59/80 [08:08<02:21,  6.73s/trial, best loss: 0.38328815376130076]\u001b[A\n",
      " 75%|███████████████████████████████████▎           | 60/80 [08:14<02:09,  6.48s/trial, best loss: 0.38328815376130076]\u001b[A\n",
      " 76%|███████████████████████████████████▊           | 61/80 [08:23<02:17,  7.21s/trial, best loss: 0.38328815376130076]\u001b[A\n",
      " 78%|████████████████████████████████████▍          | 62/80 [08:34<02:29,  8.30s/trial, best loss: 0.38328815376130076]\u001b[A\n",
      " 79%|█████████████████████████████████████          | 63/80 [08:41<02:14,  7.93s/trial, best loss: 0.38328815376130076]\u001b[A\n",
      " 80%|██████████████████████████████████████▍         | 64/80 [08:55<02:37,  9.83s/trial, best loss: 0.3823338120975961]\u001b[A\n",
      " 81%|███████████████████████████████████████         | 65/80 [09:01<02:10,  8.73s/trial, best loss: 0.3823338120975961]\u001b[A\n",
      " 82%|███████████████████████████████████████▌        | 66/80 [09:09<01:59,  8.51s/trial, best loss: 0.3823338120975961]\u001b[A\n",
      " 84%|████████████████████████████████████████▏       | 67/80 [09:15<01:39,  7.69s/trial, best loss: 0.3823338120975961]\u001b[A\n",
      " 85%|████████████████████████████████████████▊       | 68/80 [09:20<01:21,  6.76s/trial, best loss: 0.3823338120975961]\u001b[A\n",
      " 86%|█████████████████████████████████████████▍      | 69/80 [09:44<02:11, 11.96s/trial, best loss: 0.3818393713078486]\u001b[A\n",
      " 88%|██████████████████████████████████████████      | 70/80 [10:12<02:47, 16.76s/trial, best loss: 0.3818393713078486]\u001b[A\n",
      " 89%|██████████████████████████████████████████▌     | 71/80 [10:19<02:04, 13.81s/trial, best loss: 0.3818393713078486]\u001b[A\n",
      " 90%|███████████████████████████████████████████▏    | 72/80 [10:23<01:28, 11.12s/trial, best loss: 0.3818393713078486]\u001b[A\n",
      " 91%|███████████████████████████████████████████▊    | 73/80 [10:32<01:12, 10.30s/trial, best loss: 0.3818393713078486]\u001b[A\n",
      " 92%|████████████████████████████████████████████▍   | 74/80 [10:35<00:49,  8.26s/trial, best loss: 0.3818393713078486]\u001b[A\n",
      " 94%|█████████████████████████████████████████████   | 75/80 [10:40<00:35,  7.20s/trial, best loss: 0.3818393713078486]\u001b[A\n",
      " 95%|█████████████████████████████████████████████▌  | 76/80 [10:46<00:27,  6.89s/trial, best loss: 0.3818393713078486]\u001b[A\n",
      " 96%|██████████████████████████████████████████████▏ | 77/80 [10:50<00:17,  5.99s/trial, best loss: 0.3818393713078486]\u001b[A\n",
      " 98%|██████████████████████████████████████████████▊ | 78/80 [11:07<00:18,  9.32s/trial, best loss: 0.3818393713078486]\u001b[A\n",
      " 99%|███████████████████████████████████████████████▍| 79/80 [11:12<00:08,  8.07s/trial, best loss: 0.3818393713078486]\u001b[A\n",
      "100%|████████████████████████████████████████████████| 80/80 [11:21<00:00,  8.52s/trial, best loss: 0.3818393713078486]\u001b[A"
     ]
    },
    {
     "name": "stderr",
     "output_type": "stream",
     "text": [
      "Hyperparameter Tuning:   0%|                                                                    | 0/80 [11:21<?, ?it/s]"
     ]
    },
    {
     "name": "stdout",
     "output_type": "stream",
     "text": [
      "\n",
      "\n",
      "Best Hyperparameters: {'colsample_bytree': 0.7450117923076128, 'gamma': 6.942715290022107e-06, 'grow_policy': 1, 'learning_rate': 0.04431254560995843, 'max_bin': 368.0, 'max_delta_step': 3.0, 'max_depth': 6.0, 'min_child_weight': 1.0, 'n_estimators': 7540.0, 'reg_alpha': 0.1795482968359151, 'reg_lambda': 0.2647015630918937, 'scale_pos_weight': 9.388268962794474, 'subsample': 0.6972729354682095}\n"
     ]
    },
    {
     "name": "stderr",
     "output_type": "stream",
     "text": [
      "\n"
     ]
    },
    {
     "name": "stdout",
     "output_type": "stream",
     "text": [
      "\n",
      "Performance of the Final Model:\n",
      "Mean Squared Error (MSE): 0.014506833026846208\n",
      "Mean Absolute Error (MAE): 0.08102135293295862\n",
      "R^2 Score: 0.9338538035309351\n"
     ]
    }
   ],
   "source": [
    "import warnings\n",
    "warnings.filterwarnings(\"ignore\")\n",
    "\n",
    "def objective(params):\n",
    "    model = XGBRegressor(\n",
    "        n_estimators=int(params['n_estimators']),\n",
    "        max_depth=int(params['max_depth']),\n",
    "        learning_rate=params['learning_rate'],\n",
    "        subsample=params['subsample'],\n",
    "        colsample_bytree=params['colsample_bytree'],\n",
    "        min_child_weight=int(params['min_child_weight']),\n",
    "        gamma=params['gamma'],\n",
    "        reg_alpha=params['reg_alpha'],\n",
    "        reg_lambda=params['reg_lambda'],\n",
    "        max_delta_step=int(params['max_delta_step']),\n",
    "        scale_pos_weight=params['scale_pos_weight'],\n",
    "        max_bin=int(params['max_bin']),\n",
    "        grow_policy=params['grow_policy'],\n",
    "        booster='gbtree',\n",
    "        n_jobs=-1,\n",
    "    )\n",
    "\n",
    "    pipeline = Pipeline([\n",
    "        ('preprocessor', preprocessor), \n",
    "        ('regressor', model)\n",
    "    ])\n",
    "    \n",
    "    pipeline.fit(X_train, y_train)\n",
    "    y_pred = pipeline.predict(X_test)\n",
    "    y_pred = np.expm1(y_pred)    \n",
    "    mae = mean_absolute_error(np.expm1(y_test),y_pred)   \n",
    "    return {'loss': mae, 'status': STATUS_OK}\n",
    "\n",
    "param_space = {\n",
    "    'n_estimators': scope.int(hp.quniform('n_estimators', 5000, 20000, 10)),\n",
    "    'max_depth': scope.int(hp.quniform('max_depth', 2, 12, 1)),\n",
    "    'learning_rate': hp.loguniform('learning_rate', np.log(0.01), np.log(0.05)),\n",
    "    'subsample': hp.uniform('subsample', 0.6, 0.9),\n",
    "    'colsample_bytree': hp.uniform('colsample_bytree', 0.6, 1),\n",
    "    'min_child_weight': scope.int(hp.quniform('min_child_weight', 1, 4, 1)),\n",
    "    'gamma': hp.uniform('gamma', 0, 0.5),\n",
    "    'reg_alpha': hp.uniform('reg_alpha', 0.1, 0.3),\n",
    "    'reg_lambda': hp.uniform('reg_lambda', 0.1, 0.3),\n",
    "    'max_delta_step': scope.int(hp.quniform('max_delta_step', 3, 6, 1)),\n",
    "    'scale_pos_weight': hp.uniform('scale_pos_weight', 8, 10),\n",
    "    'max_bin': scope.int(hp.quniform('max_bin', 300, 400, 1)),\n",
    "    'grow_policy': hp.choice('grow_policy', ['depthwise', 'lossguide']),\n",
    "}\n",
    "\n",
    "trials = Trials()\n",
    "max_evals = 80\n",
    "\n",
    "with tqdm(total=max_evals, desc=\"Hyperparameter Tuning\") as pbar:\n",
    "    best_params = fmin(\n",
    "        fn=objective,\n",
    "        space=param_space,\n",
    "        algo=tpe.suggest,\n",
    "        max_evals=max_evals,\n",
    "        trials=trials,\n",
    "        rstate=np.random.default_rng(42),\n",
    "        show_progressbar=True\n",
    "    )\n",
    "\n",
    "print(\"\\nBest Hyperparameters:\", best_params)\n",
    "\n",
    "final_model = XGBRegressor(\n",
    "    n_estimators=int(best_params['n_estimators']),\n",
    "    max_depth=int(best_params['max_depth']),\n",
    "    learning_rate=best_params['learning_rate'],\n",
    "    subsample=best_params['subsample'],\n",
    "    colsample_bytree=best_params['colsample_bytree'],\n",
    "    min_child_weight=int(best_params['min_child_weight']),\n",
    "    gamma=best_params['gamma'],\n",
    "    reg_alpha=best_params['reg_alpha'],\n",
    "    reg_lambda=best_params['reg_lambda'],\n",
    "    max_delta_step=int(best_params['max_delta_step']),\n",
    "    scale_pos_weight=best_params['scale_pos_weight'],\n",
    "    max_bin=int(best_params['max_bin']),\n",
    "    grow_policy=['depthwise', 'lossguide'][best_params['grow_policy']],\n",
    "    booster='gbtree',\n",
    "    n_jobs=-1,\n",
    ")\n",
    "\n",
    "pipeline = Pipeline([\n",
    "    ('preprocessor', preprocessor),\n",
    "    ('regressor', final_model)\n",
    "])\n",
    "\n",
    "\n",
    "pipeline.fit(X_train, y_train)\n",
    "\n",
    "y_pred = pipeline.predict(X_test)\n",
    "mse = mean_squared_error(y_test, y_pred)\n",
    "mae = mean_absolute_error(y_test, y_pred)\n",
    "r2 = r2_score(y_test, y_pred)\n",
    "\n",
    "print(\"\\nPerformance of the Final Model:\")\n",
    "print(\"Mean Squared Error (MSE):\", mse)\n",
    "print(\"Mean Absolute Error (MAE):\", mae)\n",
    "print(\"R^2 Score:\", r2)\n",
    "\n"
   ]
  },
  {
   "cell_type": "code",
   "execution_count": 58,
   "id": "a1ad13b6-d1a1-4d66-89fe-9cfe696a7abf",
   "metadata": {},
   "outputs": [],
   "source": [
    "import category_encoders as ce\n",
    "\n",
    "columns_to_encode = ['Facing','Corner_Property', 'No_Balcony', 'flat_age', 'Furnishing', 'luxury_category', 'floor_category']\n",
    "\n",
    "preprocessor = ColumnTransformer(\n",
    "    transformers = [\n",
    "        ('num' , StandardScaler(), ['No_Bedroom', 'No_Bathroom', 'study room', 'servant room', 'store room', 'pooja room','Overlooking_main road', 'Overlooking_club','Overlooking_pool', 'Overlooking_NA', 'Super Built-up Area']),\n",
    "        ('cat' , OrdinalEncoder(), columns_to_encode),\n",
    "        ('target_enc', ce.TargetEncoder(), ['sector_num'])\n",
    "\n",
    "    ],\n",
    "    remainder = 'passthrough'\n",
    ")"
   ]
  },
  {
   "cell_type": "code",
   "execution_count": 59,
   "id": "4c243d95-191b-4499-8935-41ea18553a4c",
   "metadata": {},
   "outputs": [
    {
     "data": {
      "text/plain": [
       "(12360, 19)"
      ]
     },
     "execution_count": 59,
     "metadata": {},
     "output_type": "execute_result"
    }
   ],
   "source": [
    "X.shape"
   ]
  },
  {
   "cell_type": "code",
   "execution_count": 60,
   "id": "ca683c6f-72f1-4ebd-90ad-525403ec2380",
   "metadata": {},
   "outputs": [
    {
     "data": {
      "text/plain": [
       "(12360,)"
      ]
     },
     "execution_count": 60,
     "metadata": {},
     "output_type": "execute_result"
    }
   ],
   "source": [
    "y_transformed.shape"
   ]
  },
  {
   "cell_type": "code",
   "execution_count": 61,
   "id": "33e0c354-0c66-4eae-879d-1c688cbaebc7",
   "metadata": {},
   "outputs": [
    {
     "data": {
      "text/plain": [
       "Index(['Facing', 'No_Bedroom', 'No_Bathroom', 'No_Balcony', 'Corner_Property',\n",
       "       'Furnishing', 'study room', 'servant room', 'store room', 'pooja room',\n",
       "       'Overlooking_main road', 'Overlooking_club', 'Overlooking_pool',\n",
       "       'Overlooking_NA', 'flat_age', 'sector_num', 'Super Built-up Area',\n",
       "       'luxury_category', 'floor_category'],\n",
       "      dtype='object')"
      ]
     },
     "execution_count": 61,
     "metadata": {},
     "output_type": "execute_result"
    }
   ],
   "source": [
    "X.columns"
   ]
  },
  {
   "cell_type": "code",
   "execution_count": 62,
   "id": "ed956d0a-be46-444a-8ec4-210d57e66860",
   "metadata": {},
   "outputs": [],
   "source": [
    "pipeline = Pipeline([\n",
    "        ('preprocessor', preprocessor), \n",
    "        ('regressor', final_model)\n",
    "    ])"
   ]
  },
  {
   "cell_type": "code",
   "execution_count": 63,
   "id": "27e96ac7-701d-48c3-8d06-5569c62a3c45",
   "metadata": {},
   "outputs": [
    {
     "data": {
      "text/html": [
       "<style>#sk-container-id-1 {\n",
       "  /* Definition of color scheme common for light and dark mode */\n",
       "  --sklearn-color-text: black;\n",
       "  --sklearn-color-line: gray;\n",
       "  /* Definition of color scheme for unfitted estimators */\n",
       "  --sklearn-color-unfitted-level-0: #fff5e6;\n",
       "  --sklearn-color-unfitted-level-1: #f6e4d2;\n",
       "  --sklearn-color-unfitted-level-2: #ffe0b3;\n",
       "  --sklearn-color-unfitted-level-3: chocolate;\n",
       "  /* Definition of color scheme for fitted estimators */\n",
       "  --sklearn-color-fitted-level-0: #f0f8ff;\n",
       "  --sklearn-color-fitted-level-1: #d4ebff;\n",
       "  --sklearn-color-fitted-level-2: #b3dbfd;\n",
       "  --sklearn-color-fitted-level-3: cornflowerblue;\n",
       "\n",
       "  /* Specific color for light theme */\n",
       "  --sklearn-color-text-on-default-background: var(--sg-text-color, var(--theme-code-foreground, var(--jp-content-font-color1, black)));\n",
       "  --sklearn-color-background: var(--sg-background-color, var(--theme-background, var(--jp-layout-color0, white)));\n",
       "  --sklearn-color-border-box: var(--sg-text-color, var(--theme-code-foreground, var(--jp-content-font-color1, black)));\n",
       "  --sklearn-color-icon: #696969;\n",
       "\n",
       "  @media (prefers-color-scheme: dark) {\n",
       "    /* Redefinition of color scheme for dark theme */\n",
       "    --sklearn-color-text-on-default-background: var(--sg-text-color, var(--theme-code-foreground, var(--jp-content-font-color1, white)));\n",
       "    --sklearn-color-background: var(--sg-background-color, var(--theme-background, var(--jp-layout-color0, #111)));\n",
       "    --sklearn-color-border-box: var(--sg-text-color, var(--theme-code-foreground, var(--jp-content-font-color1, white)));\n",
       "    --sklearn-color-icon: #878787;\n",
       "  }\n",
       "}\n",
       "\n",
       "#sk-container-id-1 {\n",
       "  color: var(--sklearn-color-text);\n",
       "}\n",
       "\n",
       "#sk-container-id-1 pre {\n",
       "  padding: 0;\n",
       "}\n",
       "\n",
       "#sk-container-id-1 input.sk-hidden--visually {\n",
       "  border: 0;\n",
       "  clip: rect(1px 1px 1px 1px);\n",
       "  clip: rect(1px, 1px, 1px, 1px);\n",
       "  height: 1px;\n",
       "  margin: -1px;\n",
       "  overflow: hidden;\n",
       "  padding: 0;\n",
       "  position: absolute;\n",
       "  width: 1px;\n",
       "}\n",
       "\n",
       "#sk-container-id-1 div.sk-dashed-wrapped {\n",
       "  border: 1px dashed var(--sklearn-color-line);\n",
       "  margin: 0 0.4em 0.5em 0.4em;\n",
       "  box-sizing: border-box;\n",
       "  padding-bottom: 0.4em;\n",
       "  background-color: var(--sklearn-color-background);\n",
       "}\n",
       "\n",
       "#sk-container-id-1 div.sk-container {\n",
       "  /* jupyter's `normalize.less` sets `[hidden] { display: none; }`\n",
       "     but bootstrap.min.css set `[hidden] { display: none !important; }`\n",
       "     so we also need the `!important` here to be able to override the\n",
       "     default hidden behavior on the sphinx rendered scikit-learn.org.\n",
       "     See: https://github.com/scikit-learn/scikit-learn/issues/21755 */\n",
       "  display: inline-block !important;\n",
       "  position: relative;\n",
       "}\n",
       "\n",
       "#sk-container-id-1 div.sk-text-repr-fallback {\n",
       "  display: none;\n",
       "}\n",
       "\n",
       "div.sk-parallel-item,\n",
       "div.sk-serial,\n",
       "div.sk-item {\n",
       "  /* draw centered vertical line to link estimators */\n",
       "  background-image: linear-gradient(var(--sklearn-color-text-on-default-background), var(--sklearn-color-text-on-default-background));\n",
       "  background-size: 2px 100%;\n",
       "  background-repeat: no-repeat;\n",
       "  background-position: center center;\n",
       "}\n",
       "\n",
       "/* Parallel-specific style estimator block */\n",
       "\n",
       "#sk-container-id-1 div.sk-parallel-item::after {\n",
       "  content: \"\";\n",
       "  width: 100%;\n",
       "  border-bottom: 2px solid var(--sklearn-color-text-on-default-background);\n",
       "  flex-grow: 1;\n",
       "}\n",
       "\n",
       "#sk-container-id-1 div.sk-parallel {\n",
       "  display: flex;\n",
       "  align-items: stretch;\n",
       "  justify-content: center;\n",
       "  background-color: var(--sklearn-color-background);\n",
       "  position: relative;\n",
       "}\n",
       "\n",
       "#sk-container-id-1 div.sk-parallel-item {\n",
       "  display: flex;\n",
       "  flex-direction: column;\n",
       "}\n",
       "\n",
       "#sk-container-id-1 div.sk-parallel-item:first-child::after {\n",
       "  align-self: flex-end;\n",
       "  width: 50%;\n",
       "}\n",
       "\n",
       "#sk-container-id-1 div.sk-parallel-item:last-child::after {\n",
       "  align-self: flex-start;\n",
       "  width: 50%;\n",
       "}\n",
       "\n",
       "#sk-container-id-1 div.sk-parallel-item:only-child::after {\n",
       "  width: 0;\n",
       "}\n",
       "\n",
       "/* Serial-specific style estimator block */\n",
       "\n",
       "#sk-container-id-1 div.sk-serial {\n",
       "  display: flex;\n",
       "  flex-direction: column;\n",
       "  align-items: center;\n",
       "  background-color: var(--sklearn-color-background);\n",
       "  padding-right: 1em;\n",
       "  padding-left: 1em;\n",
       "}\n",
       "\n",
       "\n",
       "/* Toggleable style: style used for estimator/Pipeline/ColumnTransformer box that is\n",
       "clickable and can be expanded/collapsed.\n",
       "- Pipeline and ColumnTransformer use this feature and define the default style\n",
       "- Estimators will overwrite some part of the style using the `sk-estimator` class\n",
       "*/\n",
       "\n",
       "/* Pipeline and ColumnTransformer style (default) */\n",
       "\n",
       "#sk-container-id-1 div.sk-toggleable {\n",
       "  /* Default theme specific background. It is overwritten whether we have a\n",
       "  specific estimator or a Pipeline/ColumnTransformer */\n",
       "  background-color: var(--sklearn-color-background);\n",
       "}\n",
       "\n",
       "/* Toggleable label */\n",
       "#sk-container-id-1 label.sk-toggleable__label {\n",
       "  cursor: pointer;\n",
       "  display: block;\n",
       "  width: 100%;\n",
       "  margin-bottom: 0;\n",
       "  padding: 0.5em;\n",
       "  box-sizing: border-box;\n",
       "  text-align: center;\n",
       "}\n",
       "\n",
       "#sk-container-id-1 label.sk-toggleable__label-arrow:before {\n",
       "  /* Arrow on the left of the label */\n",
       "  content: \"▸\";\n",
       "  float: left;\n",
       "  margin-right: 0.25em;\n",
       "  color: var(--sklearn-color-icon);\n",
       "}\n",
       "\n",
       "#sk-container-id-1 label.sk-toggleable__label-arrow:hover:before {\n",
       "  color: var(--sklearn-color-text);\n",
       "}\n",
       "\n",
       "/* Toggleable content - dropdown */\n",
       "\n",
       "#sk-container-id-1 div.sk-toggleable__content {\n",
       "  max-height: 0;\n",
       "  max-width: 0;\n",
       "  overflow: hidden;\n",
       "  text-align: left;\n",
       "  /* unfitted */\n",
       "  background-color: var(--sklearn-color-unfitted-level-0);\n",
       "}\n",
       "\n",
       "#sk-container-id-1 div.sk-toggleable__content.fitted {\n",
       "  /* fitted */\n",
       "  background-color: var(--sklearn-color-fitted-level-0);\n",
       "}\n",
       "\n",
       "#sk-container-id-1 div.sk-toggleable__content pre {\n",
       "  margin: 0.2em;\n",
       "  border-radius: 0.25em;\n",
       "  color: var(--sklearn-color-text);\n",
       "  /* unfitted */\n",
       "  background-color: var(--sklearn-color-unfitted-level-0);\n",
       "}\n",
       "\n",
       "#sk-container-id-1 div.sk-toggleable__content.fitted pre {\n",
       "  /* unfitted */\n",
       "  background-color: var(--sklearn-color-fitted-level-0);\n",
       "}\n",
       "\n",
       "#sk-container-id-1 input.sk-toggleable__control:checked~div.sk-toggleable__content {\n",
       "  /* Expand drop-down */\n",
       "  max-height: 200px;\n",
       "  max-width: 100%;\n",
       "  overflow: auto;\n",
       "}\n",
       "\n",
       "#sk-container-id-1 input.sk-toggleable__control:checked~label.sk-toggleable__label-arrow:before {\n",
       "  content: \"▾\";\n",
       "}\n",
       "\n",
       "/* Pipeline/ColumnTransformer-specific style */\n",
       "\n",
       "#sk-container-id-1 div.sk-label input.sk-toggleable__control:checked~label.sk-toggleable__label {\n",
       "  color: var(--sklearn-color-text);\n",
       "  background-color: var(--sklearn-color-unfitted-level-2);\n",
       "}\n",
       "\n",
       "#sk-container-id-1 div.sk-label.fitted input.sk-toggleable__control:checked~label.sk-toggleable__label {\n",
       "  background-color: var(--sklearn-color-fitted-level-2);\n",
       "}\n",
       "\n",
       "/* Estimator-specific style */\n",
       "\n",
       "/* Colorize estimator box */\n",
       "#sk-container-id-1 div.sk-estimator input.sk-toggleable__control:checked~label.sk-toggleable__label {\n",
       "  /* unfitted */\n",
       "  background-color: var(--sklearn-color-unfitted-level-2);\n",
       "}\n",
       "\n",
       "#sk-container-id-1 div.sk-estimator.fitted input.sk-toggleable__control:checked~label.sk-toggleable__label {\n",
       "  /* fitted */\n",
       "  background-color: var(--sklearn-color-fitted-level-2);\n",
       "}\n",
       "\n",
       "#sk-container-id-1 div.sk-label label.sk-toggleable__label,\n",
       "#sk-container-id-1 div.sk-label label {\n",
       "  /* The background is the default theme color */\n",
       "  color: var(--sklearn-color-text-on-default-background);\n",
       "}\n",
       "\n",
       "/* On hover, darken the color of the background */\n",
       "#sk-container-id-1 div.sk-label:hover label.sk-toggleable__label {\n",
       "  color: var(--sklearn-color-text);\n",
       "  background-color: var(--sklearn-color-unfitted-level-2);\n",
       "}\n",
       "\n",
       "/* Label box, darken color on hover, fitted */\n",
       "#sk-container-id-1 div.sk-label.fitted:hover label.sk-toggleable__label.fitted {\n",
       "  color: var(--sklearn-color-text);\n",
       "  background-color: var(--sklearn-color-fitted-level-2);\n",
       "}\n",
       "\n",
       "/* Estimator label */\n",
       "\n",
       "#sk-container-id-1 div.sk-label label {\n",
       "  font-family: monospace;\n",
       "  font-weight: bold;\n",
       "  display: inline-block;\n",
       "  line-height: 1.2em;\n",
       "}\n",
       "\n",
       "#sk-container-id-1 div.sk-label-container {\n",
       "  text-align: center;\n",
       "}\n",
       "\n",
       "/* Estimator-specific */\n",
       "#sk-container-id-1 div.sk-estimator {\n",
       "  font-family: monospace;\n",
       "  border: 1px dotted var(--sklearn-color-border-box);\n",
       "  border-radius: 0.25em;\n",
       "  box-sizing: border-box;\n",
       "  margin-bottom: 0.5em;\n",
       "  /* unfitted */\n",
       "  background-color: var(--sklearn-color-unfitted-level-0);\n",
       "}\n",
       "\n",
       "#sk-container-id-1 div.sk-estimator.fitted {\n",
       "  /* fitted */\n",
       "  background-color: var(--sklearn-color-fitted-level-0);\n",
       "}\n",
       "\n",
       "/* on hover */\n",
       "#sk-container-id-1 div.sk-estimator:hover {\n",
       "  /* unfitted */\n",
       "  background-color: var(--sklearn-color-unfitted-level-2);\n",
       "}\n",
       "\n",
       "#sk-container-id-1 div.sk-estimator.fitted:hover {\n",
       "  /* fitted */\n",
       "  background-color: var(--sklearn-color-fitted-level-2);\n",
       "}\n",
       "\n",
       "/* Specification for estimator info (e.g. \"i\" and \"?\") */\n",
       "\n",
       "/* Common style for \"i\" and \"?\" */\n",
       "\n",
       ".sk-estimator-doc-link,\n",
       "a:link.sk-estimator-doc-link,\n",
       "a:visited.sk-estimator-doc-link {\n",
       "  float: right;\n",
       "  font-size: smaller;\n",
       "  line-height: 1em;\n",
       "  font-family: monospace;\n",
       "  background-color: var(--sklearn-color-background);\n",
       "  border-radius: 1em;\n",
       "  height: 1em;\n",
       "  width: 1em;\n",
       "  text-decoration: none !important;\n",
       "  margin-left: 1ex;\n",
       "  /* unfitted */\n",
       "  border: var(--sklearn-color-unfitted-level-1) 1pt solid;\n",
       "  color: var(--sklearn-color-unfitted-level-1);\n",
       "}\n",
       "\n",
       ".sk-estimator-doc-link.fitted,\n",
       "a:link.sk-estimator-doc-link.fitted,\n",
       "a:visited.sk-estimator-doc-link.fitted {\n",
       "  /* fitted */\n",
       "  border: var(--sklearn-color-fitted-level-1) 1pt solid;\n",
       "  color: var(--sklearn-color-fitted-level-1);\n",
       "}\n",
       "\n",
       "/* On hover */\n",
       "div.sk-estimator:hover .sk-estimator-doc-link:hover,\n",
       ".sk-estimator-doc-link:hover,\n",
       "div.sk-label-container:hover .sk-estimator-doc-link:hover,\n",
       ".sk-estimator-doc-link:hover {\n",
       "  /* unfitted */\n",
       "  background-color: var(--sklearn-color-unfitted-level-3);\n",
       "  color: var(--sklearn-color-background);\n",
       "  text-decoration: none;\n",
       "}\n",
       "\n",
       "div.sk-estimator.fitted:hover .sk-estimator-doc-link.fitted:hover,\n",
       ".sk-estimator-doc-link.fitted:hover,\n",
       "div.sk-label-container:hover .sk-estimator-doc-link.fitted:hover,\n",
       ".sk-estimator-doc-link.fitted:hover {\n",
       "  /* fitted */\n",
       "  background-color: var(--sklearn-color-fitted-level-3);\n",
       "  color: var(--sklearn-color-background);\n",
       "  text-decoration: none;\n",
       "}\n",
       "\n",
       "/* Span, style for the box shown on hovering the info icon */\n",
       ".sk-estimator-doc-link span {\n",
       "  display: none;\n",
       "  z-index: 9999;\n",
       "  position: relative;\n",
       "  font-weight: normal;\n",
       "  right: .2ex;\n",
       "  padding: .5ex;\n",
       "  margin: .5ex;\n",
       "  width: min-content;\n",
       "  min-width: 20ex;\n",
       "  max-width: 50ex;\n",
       "  color: var(--sklearn-color-text);\n",
       "  box-shadow: 2pt 2pt 4pt #999;\n",
       "  /* unfitted */\n",
       "  background: var(--sklearn-color-unfitted-level-0);\n",
       "  border: .5pt solid var(--sklearn-color-unfitted-level-3);\n",
       "}\n",
       "\n",
       ".sk-estimator-doc-link.fitted span {\n",
       "  /* fitted */\n",
       "  background: var(--sklearn-color-fitted-level-0);\n",
       "  border: var(--sklearn-color-fitted-level-3);\n",
       "}\n",
       "\n",
       ".sk-estimator-doc-link:hover span {\n",
       "  display: block;\n",
       "}\n",
       "\n",
       "/* \"?\"-specific style due to the `<a>` HTML tag */\n",
       "\n",
       "#sk-container-id-1 a.estimator_doc_link {\n",
       "  float: right;\n",
       "  font-size: 1rem;\n",
       "  line-height: 1em;\n",
       "  font-family: monospace;\n",
       "  background-color: var(--sklearn-color-background);\n",
       "  border-radius: 1rem;\n",
       "  height: 1rem;\n",
       "  width: 1rem;\n",
       "  text-decoration: none;\n",
       "  /* unfitted */\n",
       "  color: var(--sklearn-color-unfitted-level-1);\n",
       "  border: var(--sklearn-color-unfitted-level-1) 1pt solid;\n",
       "}\n",
       "\n",
       "#sk-container-id-1 a.estimator_doc_link.fitted {\n",
       "  /* fitted */\n",
       "  border: var(--sklearn-color-fitted-level-1) 1pt solid;\n",
       "  color: var(--sklearn-color-fitted-level-1);\n",
       "}\n",
       "\n",
       "/* On hover */\n",
       "#sk-container-id-1 a.estimator_doc_link:hover {\n",
       "  /* unfitted */\n",
       "  background-color: var(--sklearn-color-unfitted-level-3);\n",
       "  color: var(--sklearn-color-background);\n",
       "  text-decoration: none;\n",
       "}\n",
       "\n",
       "#sk-container-id-1 a.estimator_doc_link.fitted:hover {\n",
       "  /* fitted */\n",
       "  background-color: var(--sklearn-color-fitted-level-3);\n",
       "}\n",
       "</style><div id=\"sk-container-id-1\" class=\"sk-top-container\"><div class=\"sk-text-repr-fallback\"><pre>Pipeline(steps=[(&#x27;preprocessor&#x27;,\n",
       "                 ColumnTransformer(remainder=&#x27;passthrough&#x27;,\n",
       "                                   transformers=[(&#x27;num&#x27;, StandardScaler(),\n",
       "                                                  [&#x27;No_Bedroom&#x27;, &#x27;No_Bathroom&#x27;,\n",
       "                                                   &#x27;study room&#x27;, &#x27;servant room&#x27;,\n",
       "                                                   &#x27;store room&#x27;, &#x27;pooja room&#x27;,\n",
       "                                                   &#x27;Overlooking_main road&#x27;,\n",
       "                                                   &#x27;Overlooking_club&#x27;,\n",
       "                                                   &#x27;Overlooking_pool&#x27;,\n",
       "                                                   &#x27;Overlooking_NA&#x27;,\n",
       "                                                   &#x27;Super Built-up Area&#x27;]),\n",
       "                                                 (&#x27;cat&#x27;, OrdinalEncoder(),\n",
       "                                                  [&#x27;Facing&#x27;, &#x27;Corner_Property&#x27;,\n",
       "                                                   &#x27;No_Balc...\n",
       "                              grow_policy=&#x27;lossguide&#x27;, importance_type=None,\n",
       "                              interaction_constraints=None,\n",
       "                              learning_rate=0.04431254560995843, max_bin=368,\n",
       "                              max_cat_threshold=None, max_cat_to_onehot=None,\n",
       "                              max_delta_step=3, max_depth=6, max_leaves=None,\n",
       "                              min_child_weight=1, missing=nan,\n",
       "                              monotone_constraints=None, multi_strategy=None,\n",
       "                              n_estimators=7540, n_jobs=-1,\n",
       "                              num_parallel_tree=None, random_state=None, ...))])</pre><b>In a Jupyter environment, please rerun this cell to show the HTML representation or trust the notebook. <br />On GitHub, the HTML representation is unable to render, please try loading this page with nbviewer.org.</b></div><div class=\"sk-container\" hidden><div class=\"sk-item sk-dashed-wrapped\"><div class=\"sk-label-container\"><div class=\"sk-label fitted sk-toggleable\"><input class=\"sk-toggleable__control sk-hidden--visually\" id=\"sk-estimator-id-1\" type=\"checkbox\" ><label for=\"sk-estimator-id-1\" class=\"sk-toggleable__label fitted sk-toggleable__label-arrow fitted\">&nbsp;&nbsp;Pipeline<a class=\"sk-estimator-doc-link fitted\" rel=\"noreferrer\" target=\"_blank\" href=\"https://scikit-learn.org/1.5/modules/generated/sklearn.pipeline.Pipeline.html\">?<span>Documentation for Pipeline</span></a><span class=\"sk-estimator-doc-link fitted\">i<span>Fitted</span></span></label><div class=\"sk-toggleable__content fitted\"><pre>Pipeline(steps=[(&#x27;preprocessor&#x27;,\n",
       "                 ColumnTransformer(remainder=&#x27;passthrough&#x27;,\n",
       "                                   transformers=[(&#x27;num&#x27;, StandardScaler(),\n",
       "                                                  [&#x27;No_Bedroom&#x27;, &#x27;No_Bathroom&#x27;,\n",
       "                                                   &#x27;study room&#x27;, &#x27;servant room&#x27;,\n",
       "                                                   &#x27;store room&#x27;, &#x27;pooja room&#x27;,\n",
       "                                                   &#x27;Overlooking_main road&#x27;,\n",
       "                                                   &#x27;Overlooking_club&#x27;,\n",
       "                                                   &#x27;Overlooking_pool&#x27;,\n",
       "                                                   &#x27;Overlooking_NA&#x27;,\n",
       "                                                   &#x27;Super Built-up Area&#x27;]),\n",
       "                                                 (&#x27;cat&#x27;, OrdinalEncoder(),\n",
       "                                                  [&#x27;Facing&#x27;, &#x27;Corner_Property&#x27;,\n",
       "                                                   &#x27;No_Balc...\n",
       "                              grow_policy=&#x27;lossguide&#x27;, importance_type=None,\n",
       "                              interaction_constraints=None,\n",
       "                              learning_rate=0.04431254560995843, max_bin=368,\n",
       "                              max_cat_threshold=None, max_cat_to_onehot=None,\n",
       "                              max_delta_step=3, max_depth=6, max_leaves=None,\n",
       "                              min_child_weight=1, missing=nan,\n",
       "                              monotone_constraints=None, multi_strategy=None,\n",
       "                              n_estimators=7540, n_jobs=-1,\n",
       "                              num_parallel_tree=None, random_state=None, ...))])</pre></div> </div></div><div class=\"sk-serial\"><div class=\"sk-item sk-dashed-wrapped\"><div class=\"sk-label-container\"><div class=\"sk-label fitted sk-toggleable\"><input class=\"sk-toggleable__control sk-hidden--visually\" id=\"sk-estimator-id-2\" type=\"checkbox\" ><label for=\"sk-estimator-id-2\" class=\"sk-toggleable__label fitted sk-toggleable__label-arrow fitted\">&nbsp;preprocessor: ColumnTransformer<a class=\"sk-estimator-doc-link fitted\" rel=\"noreferrer\" target=\"_blank\" href=\"https://scikit-learn.org/1.5/modules/generated/sklearn.compose.ColumnTransformer.html\">?<span>Documentation for preprocessor: ColumnTransformer</span></a></label><div class=\"sk-toggleable__content fitted\"><pre>ColumnTransformer(remainder=&#x27;passthrough&#x27;,\n",
       "                  transformers=[(&#x27;num&#x27;, StandardScaler(),\n",
       "                                 [&#x27;No_Bedroom&#x27;, &#x27;No_Bathroom&#x27;, &#x27;study room&#x27;,\n",
       "                                  &#x27;servant room&#x27;, &#x27;store room&#x27;, &#x27;pooja room&#x27;,\n",
       "                                  &#x27;Overlooking_main road&#x27;, &#x27;Overlooking_club&#x27;,\n",
       "                                  &#x27;Overlooking_pool&#x27;, &#x27;Overlooking_NA&#x27;,\n",
       "                                  &#x27;Super Built-up Area&#x27;]),\n",
       "                                (&#x27;cat&#x27;, OrdinalEncoder(),\n",
       "                                 [&#x27;Facing&#x27;, &#x27;Corner_Property&#x27;, &#x27;No_Balcony&#x27;,\n",
       "                                  &#x27;flat_age&#x27;, &#x27;Furnishing&#x27;, &#x27;luxury_category&#x27;,\n",
       "                                  &#x27;floor_category&#x27;]),\n",
       "                                (&#x27;target_enc&#x27;, TargetEncoder(),\n",
       "                                 [&#x27;sector_num&#x27;])])</pre></div> </div></div><div class=\"sk-parallel\"><div class=\"sk-parallel-item\"><div class=\"sk-item\"><div class=\"sk-label-container\"><div class=\"sk-label fitted sk-toggleable\"><input class=\"sk-toggleable__control sk-hidden--visually\" id=\"sk-estimator-id-3\" type=\"checkbox\" ><label for=\"sk-estimator-id-3\" class=\"sk-toggleable__label fitted sk-toggleable__label-arrow fitted\">num</label><div class=\"sk-toggleable__content fitted\"><pre>[&#x27;No_Bedroom&#x27;, &#x27;No_Bathroom&#x27;, &#x27;study room&#x27;, &#x27;servant room&#x27;, &#x27;store room&#x27;, &#x27;pooja room&#x27;, &#x27;Overlooking_main road&#x27;, &#x27;Overlooking_club&#x27;, &#x27;Overlooking_pool&#x27;, &#x27;Overlooking_NA&#x27;, &#x27;Super Built-up Area&#x27;]</pre></div> </div></div><div class=\"sk-serial\"><div class=\"sk-item\"><div class=\"sk-estimator fitted sk-toggleable\"><input class=\"sk-toggleable__control sk-hidden--visually\" id=\"sk-estimator-id-4\" type=\"checkbox\" ><label for=\"sk-estimator-id-4\" class=\"sk-toggleable__label fitted sk-toggleable__label-arrow fitted\">&nbsp;StandardScaler<a class=\"sk-estimator-doc-link fitted\" rel=\"noreferrer\" target=\"_blank\" href=\"https://scikit-learn.org/1.5/modules/generated/sklearn.preprocessing.StandardScaler.html\">?<span>Documentation for StandardScaler</span></a></label><div class=\"sk-toggleable__content fitted\"><pre>StandardScaler()</pre></div> </div></div></div></div></div><div class=\"sk-parallel-item\"><div class=\"sk-item\"><div class=\"sk-label-container\"><div class=\"sk-label fitted sk-toggleable\"><input class=\"sk-toggleable__control sk-hidden--visually\" id=\"sk-estimator-id-5\" type=\"checkbox\" ><label for=\"sk-estimator-id-5\" class=\"sk-toggleable__label fitted sk-toggleable__label-arrow fitted\">cat</label><div class=\"sk-toggleable__content fitted\"><pre>[&#x27;Facing&#x27;, &#x27;Corner_Property&#x27;, &#x27;No_Balcony&#x27;, &#x27;flat_age&#x27;, &#x27;Furnishing&#x27;, &#x27;luxury_category&#x27;, &#x27;floor_category&#x27;]</pre></div> </div></div><div class=\"sk-serial\"><div class=\"sk-item\"><div class=\"sk-estimator fitted sk-toggleable\"><input class=\"sk-toggleable__control sk-hidden--visually\" id=\"sk-estimator-id-6\" type=\"checkbox\" ><label for=\"sk-estimator-id-6\" class=\"sk-toggleable__label fitted sk-toggleable__label-arrow fitted\">&nbsp;OrdinalEncoder<a class=\"sk-estimator-doc-link fitted\" rel=\"noreferrer\" target=\"_blank\" href=\"https://scikit-learn.org/1.5/modules/generated/sklearn.preprocessing.OrdinalEncoder.html\">?<span>Documentation for OrdinalEncoder</span></a></label><div class=\"sk-toggleable__content fitted\"><pre>OrdinalEncoder()</pre></div> </div></div></div></div></div><div class=\"sk-parallel-item\"><div class=\"sk-item\"><div class=\"sk-label-container\"><div class=\"sk-label fitted sk-toggleable\"><input class=\"sk-toggleable__control sk-hidden--visually\" id=\"sk-estimator-id-7\" type=\"checkbox\" ><label for=\"sk-estimator-id-7\" class=\"sk-toggleable__label fitted sk-toggleable__label-arrow fitted\">target_enc</label><div class=\"sk-toggleable__content fitted\"><pre>[&#x27;sector_num&#x27;]</pre></div> </div></div><div class=\"sk-serial\"><div class=\"sk-item\"><div class=\"sk-estimator fitted sk-toggleable\"><input class=\"sk-toggleable__control sk-hidden--visually\" id=\"sk-estimator-id-8\" type=\"checkbox\" ><label for=\"sk-estimator-id-8\" class=\"sk-toggleable__label fitted sk-toggleable__label-arrow fitted\">TargetEncoder</label><div class=\"sk-toggleable__content fitted\"><pre>TargetEncoder()</pre></div> </div></div></div></div></div><div class=\"sk-parallel-item\"><div class=\"sk-item\"><div class=\"sk-label-container\"><div class=\"sk-label fitted sk-toggleable\"><input class=\"sk-toggleable__control sk-hidden--visually\" id=\"sk-estimator-id-9\" type=\"checkbox\" ><label for=\"sk-estimator-id-9\" class=\"sk-toggleable__label fitted sk-toggleable__label-arrow fitted\">remainder</label><div class=\"sk-toggleable__content fitted\"><pre>[]</pre></div> </div></div><div class=\"sk-serial\"><div class=\"sk-item\"><div class=\"sk-estimator fitted sk-toggleable\"><input class=\"sk-toggleable__control sk-hidden--visually\" id=\"sk-estimator-id-10\" type=\"checkbox\" ><label for=\"sk-estimator-id-10\" class=\"sk-toggleable__label fitted sk-toggleable__label-arrow fitted\">passthrough</label><div class=\"sk-toggleable__content fitted\"><pre>passthrough</pre></div> </div></div></div></div></div></div></div><div class=\"sk-item\"><div class=\"sk-estimator fitted sk-toggleable\"><input class=\"sk-toggleable__control sk-hidden--visually\" id=\"sk-estimator-id-11\" type=\"checkbox\" ><label for=\"sk-estimator-id-11\" class=\"sk-toggleable__label fitted sk-toggleable__label-arrow fitted\">XGBRegressor</label><div class=\"sk-toggleable__content fitted\"><pre>XGBRegressor(base_score=None, booster=&#x27;gbtree&#x27;, callbacks=None,\n",
       "             colsample_bylevel=None, colsample_bynode=None,\n",
       "             colsample_bytree=0.7450117923076128, device=None,\n",
       "             early_stopping_rounds=None, enable_categorical=False,\n",
       "             eval_metric=None, feature_types=None, gamma=6.942715290022107e-06,\n",
       "             grow_policy=&#x27;lossguide&#x27;, importance_type=None,\n",
       "             interaction_constraints=None, learning_rate=0.04431254560995843,\n",
       "             max_bin=368, max_cat_threshold=None, max_cat_to_onehot=None,\n",
       "             max_delta_step=3, max_depth=6, max_leaves=None, min_child_weight=1,\n",
       "             missing=nan, monotone_constraints=None, multi_strategy=None,\n",
       "             n_estimators=7540, n_jobs=-1, num_parallel_tree=None,\n",
       "             random_state=None, ...)</pre></div> </div></div></div></div></div></div>"
      ],
      "text/plain": [
       "Pipeline(steps=[('preprocessor',\n",
       "                 ColumnTransformer(remainder='passthrough',\n",
       "                                   transformers=[('num', StandardScaler(),\n",
       "                                                  ['No_Bedroom', 'No_Bathroom',\n",
       "                                                   'study room', 'servant room',\n",
       "                                                   'store room', 'pooja room',\n",
       "                                                   'Overlooking_main road',\n",
       "                                                   'Overlooking_club',\n",
       "                                                   'Overlooking_pool',\n",
       "                                                   'Overlooking_NA',\n",
       "                                                   'Super Built-up Area']),\n",
       "                                                 ('cat', OrdinalEncoder(),\n",
       "                                                  ['Facing', 'Corner_Property',\n",
       "                                                   'No_Balc...\n",
       "                              grow_policy='lossguide', importance_type=None,\n",
       "                              interaction_constraints=None,\n",
       "                              learning_rate=0.04431254560995843, max_bin=368,\n",
       "                              max_cat_threshold=None, max_cat_to_onehot=None,\n",
       "                              max_delta_step=3, max_depth=6, max_leaves=None,\n",
       "                              min_child_weight=1, missing=nan,\n",
       "                              monotone_constraints=None, multi_strategy=None,\n",
       "                              n_estimators=7540, n_jobs=-1,\n",
       "                              num_parallel_tree=None, random_state=None, ...))])"
      ]
     },
     "execution_count": 63,
     "metadata": {},
     "output_type": "execute_result"
    }
   ],
   "source": [
    "pipeline.fit(X[:12350],y_transformed[:12350])"
   ]
  },
  {
   "cell_type": "code",
   "execution_count": 64,
   "id": "8a6cc599-d8ed-4a09-beca-32801432ca55",
   "metadata": {},
   "outputs": [],
   "source": [
    "import pickle\n",
    "\n",
    "with open('pipeline.pkl', 'wb') as file:\n",
    "    pickle.dump(pipeline, file)"
   ]
  },
  {
   "cell_type": "code",
   "execution_count": 65,
   "id": "642035a4-37da-4d08-ab62-c83c8e7da3c4",
   "metadata": {},
   "outputs": [],
   "source": [
    "with open('df.pkl', 'wb') as file:\n",
    "    pickle.dump(X, file)"
   ]
  },
  {
   "cell_type": "code",
   "execution_count": 66,
   "id": "e1e67f4a-223a-42cc-8e47-be55e87535de",
   "metadata": {},
   "outputs": [
    {
     "data": {
      "text/plain": [
       "Furnishing\n",
       "Semifurnished    9624\n",
       "Unfurnished      2213\n",
       "Furnished         523\n",
       "Name: count, dtype: int64"
      ]
     },
     "execution_count": 66,
     "metadata": {},
     "output_type": "execute_result"
    }
   ],
   "source": [
    "X['Furnishing'].value_counts()"
   ]
  },
  {
   "cell_type": "code",
   "execution_count": 67,
   "id": "4c20aeae-1e34-4e79-9ca1-803ba358e41b",
   "metadata": {},
   "outputs": [
    {
     "data": {
      "text/plain": [
       "array(['West', 'South', 'North-East', 'East', 'North', 'South-East',\n",
       "       'South-West', 'North-West'], dtype=object)"
      ]
     },
     "execution_count": 67,
     "metadata": {},
     "output_type": "execute_result"
    }
   ],
   "source": [
    "X['Facing'].unique()"
   ]
  },
  {
   "cell_type": "code",
   "execution_count": 68,
   "id": "46f512e2-89cc-442f-8de0-ba292189fc92",
   "metadata": {},
   "outputs": [
    {
     "data": {
      "text/plain": [
       "flat_age\n",
       "Relatively New        5415\n",
       "New Property          2255\n",
       "Moderately Old        2098\n",
       "Under Construction    1859\n",
       "Old Property           729\n",
       "Undefined                4\n",
       "Name: count, dtype: int64"
      ]
     },
     "execution_count": 68,
     "metadata": {},
     "output_type": "execute_result"
    }
   ],
   "source": [
    "X['flat_age'].value_counts()"
   ]
  },
  {
   "cell_type": "code",
   "execution_count": 69,
   "id": "34ae31d5-7c83-4dcd-88f6-95ec8acb2a7a",
   "metadata": {},
   "outputs": [
    {
     "data": {
      "text/plain": [
       "floor_category\n",
       "High Floor    5819\n",
       "Mid Floor     3832\n",
       "Low Floor     2709\n",
       "Name: count, dtype: int64"
      ]
     },
     "execution_count": 69,
     "metadata": {},
     "output_type": "execute_result"
    }
   ],
   "source": [
    "X['floor_category'].value_counts()"
   ]
  },
  {
   "cell_type": "code",
   "execution_count": 70,
   "id": "e98bf5c9-37db-4fd2-beee-cdd9a2c9744f",
   "metadata": {},
   "outputs": [
    {
     "data": {
      "text/plain": [
       "Facing                             East\n",
       "No_Bedroom                            3\n",
       "No_Bathroom                         4.0\n",
       "No_Balcony                           3+\n",
       "Corner_Property                     Yes\n",
       "Furnishing                Semifurnished\n",
       "study room                            1\n",
       "servant room                          1\n",
       "store room                            0\n",
       "pooja room                            1\n",
       "Overlooking_main road                 1\n",
       "Overlooking_club                      1\n",
       "Overlooking_pool                      1\n",
       "Overlooking_NA                        0\n",
       "flat_age                 Relatively New\n",
       "sector_num                           81\n",
       "Super Built-up Area              2660.0\n",
       "luxury_category                  Luxury\n",
       "floor_category                Low Floor\n",
       "Name: 12429, dtype: object"
      ]
     },
     "execution_count": 70,
     "metadata": {},
     "output_type": "execute_result"
    }
   ],
   "source": [
    "X.iloc[12352]"
   ]
  },
  {
   "cell_type": "code",
   "execution_count": 71,
   "id": "6697e129-a8fa-4411-b049-7d9be341280e",
   "metadata": {},
   "outputs": [
    {
     "data": {
      "text/html": [
       "<div>\n",
       "<style scoped>\n",
       "    .dataframe tbody tr th:only-of-type {\n",
       "        vertical-align: middle;\n",
       "    }\n",
       "\n",
       "    .dataframe tbody tr th {\n",
       "        vertical-align: top;\n",
       "    }\n",
       "\n",
       "    .dataframe thead th {\n",
       "        text-align: right;\n",
       "    }\n",
       "</style>\n",
       "<table border=\"1\" class=\"dataframe\">\n",
       "  <thead>\n",
       "    <tr style=\"text-align: right;\">\n",
       "      <th></th>\n",
       "      <th>Facing</th>\n",
       "      <th>No_Bedroom</th>\n",
       "      <th>No_Bathroom</th>\n",
       "      <th>No_Balcony</th>\n",
       "      <th>Corner_Property</th>\n",
       "      <th>Furnishing</th>\n",
       "      <th>study room</th>\n",
       "      <th>servant room</th>\n",
       "      <th>store room</th>\n",
       "      <th>pooja room</th>\n",
       "      <th>Overlooking_main road</th>\n",
       "      <th>Overlooking_club</th>\n",
       "      <th>Overlooking_pool</th>\n",
       "      <th>Overlooking_NA</th>\n",
       "      <th>flat_age</th>\n",
       "      <th>sector_num</th>\n",
       "      <th>Super Built-up Area</th>\n",
       "      <th>luxury_category</th>\n",
       "      <th>floor_category</th>\n",
       "    </tr>\n",
       "  </thead>\n",
       "  <tbody>\n",
       "    <tr>\n",
       "      <th>0</th>\n",
       "      <td>East</td>\n",
       "      <td>3</td>\n",
       "      <td>4.0</td>\n",
       "      <td>3+</td>\n",
       "      <td>Yes</td>\n",
       "      <td>Semifurnished</td>\n",
       "      <td>1</td>\n",
       "      <td>1</td>\n",
       "      <td>0</td>\n",
       "      <td>1</td>\n",
       "      <td>1</td>\n",
       "      <td>1</td>\n",
       "      <td>1</td>\n",
       "      <td>0</td>\n",
       "      <td>Relatively New</td>\n",
       "      <td>81</td>\n",
       "      <td>2660.0</td>\n",
       "      <td>Luxury</td>\n",
       "      <td>Low Floor</td>\n",
       "    </tr>\n",
       "  </tbody>\n",
       "</table>\n",
       "</div>"
      ],
      "text/plain": [
       "  Facing  No_Bedroom  No_Bathroom No_Balcony Corner_Property     Furnishing  \\\n",
       "0   East           3          4.0         3+             Yes  Semifurnished   \n",
       "\n",
       "   study room  servant room  store room  pooja room  Overlooking_main road  \\\n",
       "0           1             1           0           1                      1   \n",
       "\n",
       "   Overlooking_club  Overlooking_pool  Overlooking_NA        flat_age  \\\n",
       "0                 1                 1               0  Relatively New   \n",
       "\n",
       "   sector_num  Super Built-up Area luxury_category floor_category  \n",
       "0          81               2660.0          Luxury      Low Floor  "
      ]
     },
     "execution_count": 71,
     "metadata": {},
     "output_type": "execute_result"
    }
   ],
   "source": [
    "data = [['East', 3 , 4.0 , '3+', 'Yes', 'Semifurnished', 1, 1,0, 1 ,1 ,1 , 1 , 0, 'Relatively New' , 81 , 2660.0 , 'Luxury' , 'Low Floor'  ]]\n",
    "columns = ['Facing', 'No_Bedroom', 'No_Bathroom', 'No_Balcony', 'Corner_Property',\n",
    "       'Furnishing', 'study room', 'servant room', 'store room', 'pooja room',\n",
    "       'Overlooking_main road', 'Overlooking_club', 'Overlooking_pool',\n",
    "       'Overlooking_NA', 'flat_age', 'sector_num', 'Super Built-up Area',\n",
    "       'luxury_category', 'floor_category']\n",
    "\n",
    "one_df = pd.DataFrame(data, columns=columns)\n",
    "\n",
    "one_df"
   ]
  },
  {
   "cell_type": "code",
   "execution_count": 72,
   "id": "878369c8-6031-43ff-b7a5-b30ac65230f1",
   "metadata": {},
   "outputs": [
    {
     "data": {
      "text/plain": [
       "array([3.506143], dtype=float32)"
      ]
     },
     "execution_count": 72,
     "metadata": {},
     "output_type": "execute_result"
    }
   ],
   "source": [
    "np.expm1(pipeline.predict(one_df))"
   ]
  },
  {
   "cell_type": "code",
   "execution_count": 73,
   "id": "c0cf93d6-266b-432e-b5fb-1117246d16d4",
   "metadata": {},
   "outputs": [
    {
     "data": {
      "text/plain": [
       "3.4000000000000004"
      ]
     },
     "execution_count": 73,
     "metadata": {},
     "output_type": "execute_result"
    }
   ],
   "source": [
    "np.expm1(y_transformed.iloc[12352])"
   ]
  },
  {
   "cell_type": "code",
   "execution_count": null,
   "id": "4c89385c-5de0-44b1-b40e-b5a0d6ee77ba",
   "metadata": {},
   "outputs": [],
   "source": []
  }
 ],
 "metadata": {
  "kernelspec": {
   "display_name": "Python 3 (ipykernel)",
   "language": "python",
   "name": "python3"
  },
  "language_info": {
   "codemirror_mode": {
    "name": "ipython",
    "version": 3
   },
   "file_extension": ".py",
   "mimetype": "text/x-python",
   "name": "python",
   "nbconvert_exporter": "python",
   "pygments_lexer": "ipython3",
   "version": "3.11.4"
  }
 },
 "nbformat": 4,
 "nbformat_minor": 5
}
