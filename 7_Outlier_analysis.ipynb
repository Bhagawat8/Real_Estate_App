{
 "cells": [
  {
   "cell_type": "code",
   "execution_count": 1,
   "id": "70ffd212-ac63-4ca6-8836-fc30d9295aef",
   "metadata": {},
   "outputs": [],
   "source": [
    "import numpy as np\n",
    "import pandas as pd\n",
    "import matplotlib.pyplot as plt\n",
    "import seaborn as sns"
   ]
  },
  {
   "cell_type": "code",
   "execution_count": 2,
   "id": "5100a536-0628-4d09-b5b7-b4d6dce8bbb8",
   "metadata": {},
   "outputs": [],
   "source": [
    "pd.set_option('display.max_columns', None)"
   ]
  },
  {
   "cell_type": "code",
   "execution_count": 3,
   "id": "73a625f3-f4e8-4180-b744-c5b29d99e7ce",
   "metadata": {},
   "outputs": [],
   "source": [
    "df = pd.read_csv(\"data_after_feature_engg.csv\")"
   ]
  },
  {
   "cell_type": "code",
   "execution_count": 4,
   "id": "781bd1ac-24c0-4df8-a6fe-1b391040940b",
   "metadata": {},
   "outputs": [
    {
     "data": {
      "text/html": [
       "<div>\n",
       "<style scoped>\n",
       "    .dataframe tbody tr th:only-of-type {\n",
       "        vertical-align: middle;\n",
       "    }\n",
       "\n",
       "    .dataframe tbody tr th {\n",
       "        vertical-align: top;\n",
       "    }\n",
       "\n",
       "    .dataframe thead th {\n",
       "        text-align: right;\n",
       "    }\n",
       "</style>\n",
       "<table border=\"1\" class=\"dataframe\">\n",
       "  <thead>\n",
       "    <tr style=\"text-align: right;\">\n",
       "      <th></th>\n",
       "      <th>Unnamed: 0</th>\n",
       "      <th>Facing</th>\n",
       "      <th>No_Bedroom</th>\n",
       "      <th>No_Bathroom</th>\n",
       "      <th>No_Balcony</th>\n",
       "      <th>Corner_Property</th>\n",
       "      <th>Furnishing</th>\n",
       "      <th>Price_in_Crore</th>\n",
       "      <th>price_Per_Sqft_converted</th>\n",
       "      <th>study room</th>\n",
       "      <th>servant room</th>\n",
       "      <th>store room</th>\n",
       "      <th>pooja room</th>\n",
       "      <th>Overlooking_others</th>\n",
       "      <th>Overlooking_main road</th>\n",
       "      <th>Overlooking_sea facing</th>\n",
       "      <th>Overlooking_club</th>\n",
       "      <th>Overlooking_park/garden</th>\n",
       "      <th>Overlooking_pool</th>\n",
       "      <th>Overlooking_lake facing</th>\n",
       "      <th>Overlooking_NA</th>\n",
       "      <th>flat_age</th>\n",
       "      <th>sector_num</th>\n",
       "      <th>luxury_score</th>\n",
       "      <th>Text_info</th>\n",
       "      <th>Super Built-up Area</th>\n",
       "      <th>floor_ratio</th>\n",
       "    </tr>\n",
       "  </thead>\n",
       "  <tbody>\n",
       "    <tr>\n",
       "      <th>2236</th>\n",
       "      <td>2236</td>\n",
       "      <td>0.0</td>\n",
       "      <td>3</td>\n",
       "      <td>3.0</td>\n",
       "      <td>3</td>\n",
       "      <td>1</td>\n",
       "      <td>1.0</td>\n",
       "      <td>2.5</td>\n",
       "      <td>10347.0</td>\n",
       "      <td>0</td>\n",
       "      <td>1</td>\n",
       "      <td>0</td>\n",
       "      <td>0</td>\n",
       "      <td>1</td>\n",
       "      <td>1</td>\n",
       "      <td>0</td>\n",
       "      <td>1</td>\n",
       "      <td>1</td>\n",
       "      <td>1</td>\n",
       "      <td>0</td>\n",
       "      <td>0</td>\n",
       "      <td>3</td>\n",
       "      <td>67</td>\n",
       "      <td>82</td>\n",
       "      <td>This beautiful 3 bhk flat in sector 67a gurgao...</td>\n",
       "      <td>2416.00</td>\n",
       "      <td>0.736842</td>\n",
       "    </tr>\n",
       "    <tr>\n",
       "      <th>12288</th>\n",
       "      <td>12288</td>\n",
       "      <td>2.0</td>\n",
       "      <td>2</td>\n",
       "      <td>2.0</td>\n",
       "      <td>3</td>\n",
       "      <td>1</td>\n",
       "      <td>2.0</td>\n",
       "      <td>2.1</td>\n",
       "      <td>12062.0</td>\n",
       "      <td>1</td>\n",
       "      <td>1</td>\n",
       "      <td>0</td>\n",
       "      <td>1</td>\n",
       "      <td>1</td>\n",
       "      <td>1</td>\n",
       "      <td>1</td>\n",
       "      <td>1</td>\n",
       "      <td>1</td>\n",
       "      <td>1</td>\n",
       "      <td>0</td>\n",
       "      <td>0</td>\n",
       "      <td>3</td>\n",
       "      <td>85</td>\n",
       "      <td>97</td>\n",
       "      <td>Looking for a 2 bhk property for sale in gurga...</td>\n",
       "      <td>1741.00</td>\n",
       "      <td>0.384615</td>\n",
       "    </tr>\n",
       "    <tr>\n",
       "      <th>8307</th>\n",
       "      <td>8307</td>\n",
       "      <td>0.0</td>\n",
       "      <td>3</td>\n",
       "      <td>3.0</td>\n",
       "      <td>2</td>\n",
       "      <td>1</td>\n",
       "      <td>1.0</td>\n",
       "      <td>1.4</td>\n",
       "      <td>11173.0</td>\n",
       "      <td>0</td>\n",
       "      <td>0</td>\n",
       "      <td>0</td>\n",
       "      <td>1</td>\n",
       "      <td>1</td>\n",
       "      <td>1</td>\n",
       "      <td>0</td>\n",
       "      <td>1</td>\n",
       "      <td>1</td>\n",
       "      <td>1</td>\n",
       "      <td>0</td>\n",
       "      <td>0</td>\n",
       "      <td>2</td>\n",
       "      <td>95</td>\n",
       "      <td>182</td>\n",
       "      <td>Landmark avana is one of gurgaon's most sought...</td>\n",
       "      <td>1691.55</td>\n",
       "      <td>0.750000</td>\n",
       "    </tr>\n",
       "  </tbody>\n",
       "</table>\n",
       "</div>"
      ],
      "text/plain": [
       "       Unnamed: 0  Facing  No_Bedroom  No_Bathroom  No_Balcony  \\\n",
       "2236         2236     0.0           3          3.0           3   \n",
       "12288       12288     2.0           2          2.0           3   \n",
       "8307         8307     0.0           3          3.0           2   \n",
       "\n",
       "       Corner_Property  Furnishing  Price_in_Crore  price_Per_Sqft_converted  \\\n",
       "2236                 1         1.0             2.5                   10347.0   \n",
       "12288                1         2.0             2.1                   12062.0   \n",
       "8307                 1         1.0             1.4                   11173.0   \n",
       "\n",
       "       study room  servant room  store room  pooja room  Overlooking_others  \\\n",
       "2236            0             1           0           0                   1   \n",
       "12288           1             1           0           1                   1   \n",
       "8307            0             0           0           1                   1   \n",
       "\n",
       "       Overlooking_main road  Overlooking_sea facing  Overlooking_club  \\\n",
       "2236                       1                       0                 1   \n",
       "12288                      1                       1                 1   \n",
       "8307                       1                       0                 1   \n",
       "\n",
       "       Overlooking_park/garden  Overlooking_pool  Overlooking_lake facing  \\\n",
       "2236                         1                 1                        0   \n",
       "12288                        1                 1                        0   \n",
       "8307                         1                 1                        0   \n",
       "\n",
       "       Overlooking_NA  flat_age  sector_num  luxury_score  \\\n",
       "2236                0         3          67            82   \n",
       "12288               0         3          85            97   \n",
       "8307                0         2          95           182   \n",
       "\n",
       "                                               Text_info  Super Built-up Area  \\\n",
       "2236   This beautiful 3 bhk flat in sector 67a gurgao...              2416.00   \n",
       "12288  Looking for a 2 bhk property for sale in gurga...              1741.00   \n",
       "8307   Landmark avana is one of gurgaon's most sought...              1691.55   \n",
       "\n",
       "       floor_ratio  \n",
       "2236      0.736842  \n",
       "12288     0.384615  \n",
       "8307      0.750000  "
      ]
     },
     "execution_count": 4,
     "metadata": {},
     "output_type": "execute_result"
    }
   ],
   "source": [
    "df.sample(3)"
   ]
  },
  {
   "cell_type": "code",
   "execution_count": 5,
   "id": "242e2e28-89b0-4b03-8964-d1c106bcfc0c",
   "metadata": {},
   "outputs": [
    {
     "data": {
      "text/plain": [
       "Index(['Unnamed: 0', 'Facing', 'No_Bedroom', 'No_Bathroom', 'No_Balcony',\n",
       "       'Corner_Property', 'Furnishing', 'Price_in_Crore',\n",
       "       'price_Per_Sqft_converted', 'study room', 'servant room', 'store room',\n",
       "       'pooja room', 'Overlooking_others', 'Overlooking_main road',\n",
       "       'Overlooking_sea facing', 'Overlooking_club', 'Overlooking_park/garden',\n",
       "       'Overlooking_pool', 'Overlooking_lake facing', 'Overlooking_NA',\n",
       "       'flat_age', 'sector_num', 'luxury_score', 'Text_info',\n",
       "       'Super Built-up Area', 'floor_ratio'],\n",
       "      dtype='object')"
      ]
     },
     "execution_count": 5,
     "metadata": {},
     "output_type": "execute_result"
    }
   ],
   "source": [
    "df.columns"
   ]
  },
  {
   "cell_type": "code",
   "execution_count": 6,
   "id": "a56ab044-b526-4e2d-933e-5aa01c99add0",
   "metadata": {},
   "outputs": [
    {
     "name": "stderr",
     "output_type": "stream",
     "text": [
      "C:\\Users\\dell\\AppData\\Local\\Temp\\ipykernel_12792\\21268025.py:1: UserWarning: Boolean Series key will be reindexed to match DataFrame index.\n",
      "  df[df['Price_in_Crore'] > 40][abs((df['Super Built-up Area'] * df['price_Per_Sqft_converted'])/10000000 - df['Price_in_Crore']) > 30]\n"
     ]
    },
    {
     "data": {
      "text/html": [
       "<div>\n",
       "<style scoped>\n",
       "    .dataframe tbody tr th:only-of-type {\n",
       "        vertical-align: middle;\n",
       "    }\n",
       "\n",
       "    .dataframe tbody tr th {\n",
       "        vertical-align: top;\n",
       "    }\n",
       "\n",
       "    .dataframe thead th {\n",
       "        text-align: right;\n",
       "    }\n",
       "</style>\n",
       "<table border=\"1\" class=\"dataframe\">\n",
       "  <thead>\n",
       "    <tr style=\"text-align: right;\">\n",
       "      <th></th>\n",
       "      <th>Unnamed: 0</th>\n",
       "      <th>Facing</th>\n",
       "      <th>No_Bedroom</th>\n",
       "      <th>No_Bathroom</th>\n",
       "      <th>No_Balcony</th>\n",
       "      <th>Corner_Property</th>\n",
       "      <th>Furnishing</th>\n",
       "      <th>Price_in_Crore</th>\n",
       "      <th>price_Per_Sqft_converted</th>\n",
       "      <th>study room</th>\n",
       "      <th>servant room</th>\n",
       "      <th>store room</th>\n",
       "      <th>pooja room</th>\n",
       "      <th>Overlooking_others</th>\n",
       "      <th>Overlooking_main road</th>\n",
       "      <th>Overlooking_sea facing</th>\n",
       "      <th>Overlooking_club</th>\n",
       "      <th>Overlooking_park/garden</th>\n",
       "      <th>Overlooking_pool</th>\n",
       "      <th>Overlooking_lake facing</th>\n",
       "      <th>Overlooking_NA</th>\n",
       "      <th>flat_age</th>\n",
       "      <th>sector_num</th>\n",
       "      <th>luxury_score</th>\n",
       "      <th>Text_info</th>\n",
       "      <th>Super Built-up Area</th>\n",
       "      <th>floor_ratio</th>\n",
       "    </tr>\n",
       "  </thead>\n",
       "  <tbody>\n",
       "    <tr>\n",
       "      <th>5437</th>\n",
       "      <td>5437</td>\n",
       "      <td>0.0</td>\n",
       "      <td>5</td>\n",
       "      <td>7.0</td>\n",
       "      <td>2</td>\n",
       "      <td>1</td>\n",
       "      <td>1.0</td>\n",
       "      <td>60.0</td>\n",
       "      <td>94191.0</td>\n",
       "      <td>1</td>\n",
       "      <td>1</td>\n",
       "      <td>0</td>\n",
       "      <td>1</td>\n",
       "      <td>0</td>\n",
       "      <td>1</td>\n",
       "      <td>0</td>\n",
       "      <td>1</td>\n",
       "      <td>1</td>\n",
       "      <td>1</td>\n",
       "      <td>0</td>\n",
       "      <td>0</td>\n",
       "      <td>4</td>\n",
       "      <td>42</td>\n",
       "      <td>182</td>\n",
       "      <td>Flr (Fastlane realtors) your way to experience...</td>\n",
       "      <td>9800.0</td>\n",
       "      <td>0.666667</td>\n",
       "    </tr>\n",
       "  </tbody>\n",
       "</table>\n",
       "</div>"
      ],
      "text/plain": [
       "      Unnamed: 0  Facing  No_Bedroom  No_Bathroom  No_Balcony  \\\n",
       "5437        5437     0.0           5          7.0           2   \n",
       "\n",
       "      Corner_Property  Furnishing  Price_in_Crore  price_Per_Sqft_converted  \\\n",
       "5437                1         1.0            60.0                   94191.0   \n",
       "\n",
       "      study room  servant room  store room  pooja room  Overlooking_others  \\\n",
       "5437           1             1           0           1                   0   \n",
       "\n",
       "      Overlooking_main road  Overlooking_sea facing  Overlooking_club  \\\n",
       "5437                      1                       0                 1   \n",
       "\n",
       "      Overlooking_park/garden  Overlooking_pool  Overlooking_lake facing  \\\n",
       "5437                        1                 1                        0   \n",
       "\n",
       "      Overlooking_NA  flat_age  sector_num  luxury_score  \\\n",
       "5437               0         4          42           182   \n",
       "\n",
       "                                              Text_info  Super Built-up Area  \\\n",
       "5437  Flr (Fastlane realtors) your way to experience...               9800.0   \n",
       "\n",
       "      floor_ratio  \n",
       "5437     0.666667  "
      ]
     },
     "execution_count": 6,
     "metadata": {},
     "output_type": "execute_result"
    }
   ],
   "source": [
    "df[df['Price_in_Crore'] > 40][abs((df['Super Built-up Area'] * df['price_Per_Sqft_converted'])/10000000 - df['Price_in_Crore']) > 30]\n",
    "    "
   ]
  },
  {
   "cell_type": "code",
   "execution_count": 7,
   "id": "3a720489-6614-4960-9b81-cdc910a2c32d",
   "metadata": {},
   "outputs": [
    {
     "name": "stderr",
     "output_type": "stream",
     "text": [
      "C:\\Users\\dell\\AppData\\Local\\Temp\\ipykernel_12792\\1581879670.py:1: UserWarning: \n",
      "\n",
      "`distplot` is a deprecated function and will be removed in seaborn v0.14.0.\n",
      "\n",
      "Please adapt your code to use either `displot` (a figure-level function with\n",
      "similar flexibility) or `histplot` (an axes-level function for histograms).\n",
      "\n",
      "For a guide to updating your code to use the new functions, please see\n",
      "https://gist.github.com/mwaskom/de44147ed2974457ad6372750bbe5751\n",
      "\n",
      "  sns.distplot(df['Price_in_Crore'])\n"
     ]
    },
    {
     "data": {
      "text/plain": [
       "<Axes: xlabel='Price_in_Crore', ylabel='Density'>"
      ]
     },
     "execution_count": 7,
     "metadata": {},
     "output_type": "execute_result"
    },
    {
     "data": {
      "image/png": "[encoded data removed]",
      "text/plain": [
       "<Figure size 640x480 with 1 Axes>"
      ]
     },
     "metadata": {},
     "output_type": "display_data"
    }
   ],
   "source": [
    "sns.distplot(df['Price_in_Crore'])"
   ]
  },
  {
   "cell_type": "code",
   "execution_count": 8,
   "id": "837f3779-d69b-4f91-a9f9-897b9ce04e58",
   "metadata": {},
   "outputs": [
    {
     "data": {
      "text/plain": [
       "<Axes: xlabel='Price_in_Crore'>"
      ]
     },
     "execution_count": 8,
     "metadata": {},
     "output_type": "execute_result"
    },
    {
     "data": {
      "image/png": "[encoded data removed]",
      "text/plain": [
       "<Figure size 640x480 with 1 Axes>"
      ]
     },
     "metadata": {},
     "output_type": "display_data"
    }
   ],
   "source": [
    "sns.boxplot(x=df['Price_in_Crore'])"
   ]
  },
  {
   "cell_type": "code",
   "execution_count": 9,
   "id": "44ba4843-3d5d-489d-a444-a0be83375124",
   "metadata": {},
   "outputs": [
    {
     "data": {
      "text/plain": [
       "(930,\n",
       " count    930.000000\n",
       " mean      12.705439\n",
       " std       10.233964\n",
       " min        7.200000\n",
       " 25%        8.010000\n",
       " 50%        9.225000\n",
       " 75%       12.900000\n",
       " max       85.000000\n",
       " Name: Price_in_Crore, dtype: float64)"
      ]
     },
     "execution_count": 9,
     "metadata": {},
     "output_type": "execute_result"
    }
   ],
   "source": [
    "\n",
    "Q1 = df['Price_in_Crore'].quantile(0.25)\n",
    "Q3 = df['Price_in_Crore'].quantile(0.75)\n",
    "IQR = Q3 - Q1\n",
    "\n",
    "lower_bound = Q1 - 1.5 * IQR\n",
    "upper_bound = Q3 + 1.5 * IQR\n",
    "\n",
    "outliers = df[(df['Price_in_Crore'] < lower_bound) | (df['Price_in_Crore'] > upper_bound)]\n",
    "\n",
    "num_outliers = outliers.shape[0]\n",
    "outliers_price_stats = outliers['Price_in_Crore'].describe()\n",
    "\n",
    "num_outliers, outliers_price_stats"
   ]
  },
  {
   "cell_type": "code",
   "execution_count": 10,
   "id": "6294b69c-e405-4546-a0e1-66e25e278b6f",
   "metadata": {
    "scrolled": true
   },
   "outputs": [
    {
     "data": {
      "text/html": [
       "<div>\n",
       "<style scoped>\n",
       "    .dataframe tbody tr th:only-of-type {\n",
       "        vertical-align: middle;\n",
       "    }\n",
       "\n",
       "    .dataframe tbody tr th {\n",
       "        vertical-align: top;\n",
       "    }\n",
       "\n",
       "    .dataframe thead th {\n",
       "        text-align: right;\n",
       "    }\n",
       "</style>\n",
       "<table border=\"1\" class=\"dataframe\">\n",
       "  <thead>\n",
       "    <tr style=\"text-align: right;\">\n",
       "      <th></th>\n",
       "      <th>Unnamed: 0</th>\n",
       "      <th>Facing</th>\n",
       "      <th>No_Bedroom</th>\n",
       "      <th>No_Bathroom</th>\n",
       "      <th>No_Balcony</th>\n",
       "      <th>Corner_Property</th>\n",
       "      <th>Furnishing</th>\n",
       "      <th>Price_in_Crore</th>\n",
       "      <th>price_Per_Sqft_converted</th>\n",
       "      <th>study room</th>\n",
       "      <th>servant room</th>\n",
       "      <th>store room</th>\n",
       "      <th>pooja room</th>\n",
       "      <th>Overlooking_others</th>\n",
       "      <th>Overlooking_main road</th>\n",
       "      <th>Overlooking_sea facing</th>\n",
       "      <th>Overlooking_club</th>\n",
       "      <th>Overlooking_park/garden</th>\n",
       "      <th>Overlooking_pool</th>\n",
       "      <th>Overlooking_lake facing</th>\n",
       "      <th>Overlooking_NA</th>\n",
       "      <th>flat_age</th>\n",
       "      <th>sector_num</th>\n",
       "      <th>luxury_score</th>\n",
       "      <th>Text_info</th>\n",
       "      <th>Super Built-up Area</th>\n",
       "      <th>floor_ratio</th>\n",
       "    </tr>\n",
       "  </thead>\n",
       "  <tbody>\n",
       "    <tr>\n",
       "      <th>5214</th>\n",
       "      <td>5214</td>\n",
       "      <td>4.0</td>\n",
       "      <td>6</td>\n",
       "      <td>7.0</td>\n",
       "      <td>3</td>\n",
       "      <td>0</td>\n",
       "      <td>0.0</td>\n",
       "      <td>85.0</td>\n",
       "      <td>77272.0</td>\n",
       "      <td>0</td>\n",
       "      <td>1</td>\n",
       "      <td>0</td>\n",
       "      <td>1</td>\n",
       "      <td>0</td>\n",
       "      <td>0</td>\n",
       "      <td>0</td>\n",
       "      <td>0</td>\n",
       "      <td>0</td>\n",
       "      <td>0</td>\n",
       "      <td>0</td>\n",
       "      <td>1</td>\n",
       "      <td>3</td>\n",
       "      <td>42</td>\n",
       "      <td>80</td>\n",
       "      <td>Dlf the camellias is a prestigious ultra-Luxur...</td>\n",
       "      <td>11000.0</td>\n",
       "      <td>0.447368</td>\n",
       "    </tr>\n",
       "    <tr>\n",
       "      <th>5068</th>\n",
       "      <td>5068</td>\n",
       "      <td>4.0</td>\n",
       "      <td>5</td>\n",
       "      <td>7.0</td>\n",
       "      <td>4</td>\n",
       "      <td>1</td>\n",
       "      <td>1.0</td>\n",
       "      <td>75.0</td>\n",
       "      <td>57692.0</td>\n",
       "      <td>1</td>\n",
       "      <td>1</td>\n",
       "      <td>0</td>\n",
       "      <td>1</td>\n",
       "      <td>0</td>\n",
       "      <td>0</td>\n",
       "      <td>0</td>\n",
       "      <td>1</td>\n",
       "      <td>1</td>\n",
       "      <td>0</td>\n",
       "      <td>0</td>\n",
       "      <td>0</td>\n",
       "      <td>3</td>\n",
       "      <td>42</td>\n",
       "      <td>96</td>\n",
       "      <td>Prime location super ultra luxury residency fl...</td>\n",
       "      <td>13000.0</td>\n",
       "      <td>0.447368</td>\n",
       "    </tr>\n",
       "    <tr>\n",
       "      <th>5215</th>\n",
       "      <td>5215</td>\n",
       "      <td>4.0</td>\n",
       "      <td>5</td>\n",
       "      <td>7.0</td>\n",
       "      <td>3</td>\n",
       "      <td>0</td>\n",
       "      <td>0.0</td>\n",
       "      <td>75.0</td>\n",
       "      <td>78947.0</td>\n",
       "      <td>0</td>\n",
       "      <td>1</td>\n",
       "      <td>0</td>\n",
       "      <td>0</td>\n",
       "      <td>0</td>\n",
       "      <td>0</td>\n",
       "      <td>0</td>\n",
       "      <td>0</td>\n",
       "      <td>0</td>\n",
       "      <td>0</td>\n",
       "      <td>0</td>\n",
       "      <td>1</td>\n",
       "      <td>3</td>\n",
       "      <td>42</td>\n",
       "      <td>80</td>\n",
       "      <td>Dlf the camellias is a prestigious ultra-Luxur...</td>\n",
       "      <td>9500.0</td>\n",
       "      <td>0.526316</td>\n",
       "    </tr>\n",
       "    <tr>\n",
       "      <th>6505</th>\n",
       "      <td>6505</td>\n",
       "      <td>0.0</td>\n",
       "      <td>5</td>\n",
       "      <td>5.0</td>\n",
       "      <td>4</td>\n",
       "      <td>1</td>\n",
       "      <td>1.0</td>\n",
       "      <td>74.0</td>\n",
       "      <td>75510.0</td>\n",
       "      <td>1</td>\n",
       "      <td>1</td>\n",
       "      <td>1</td>\n",
       "      <td>1</td>\n",
       "      <td>1</td>\n",
       "      <td>0</td>\n",
       "      <td>0</td>\n",
       "      <td>1</td>\n",
       "      <td>1</td>\n",
       "      <td>1</td>\n",
       "      <td>0</td>\n",
       "      <td>0</td>\n",
       "      <td>3</td>\n",
       "      <td>42</td>\n",
       "      <td>189</td>\n",
       "      <td>Dlf the magnolias, located in the prestigious ...</td>\n",
       "      <td>9800.0</td>\n",
       "      <td>0.625000</td>\n",
       "    </tr>\n",
       "  </tbody>\n",
       "</table>\n",
       "</div>"
      ],
      "text/plain": [
       "      Unnamed: 0  Facing  No_Bedroom  No_Bathroom  No_Balcony  \\\n",
       "5214        5214     4.0           6          7.0           3   \n",
       "5068        5068     4.0           5          7.0           4   \n",
       "5215        5215     4.0           5          7.0           3   \n",
       "6505        6505     0.0           5          5.0           4   \n",
       "\n",
       "      Corner_Property  Furnishing  Price_in_Crore  price_Per_Sqft_converted  \\\n",
       "5214                0         0.0            85.0                   77272.0   \n",
       "5068                1         1.0            75.0                   57692.0   \n",
       "5215                0         0.0            75.0                   78947.0   \n",
       "6505                1         1.0            74.0                   75510.0   \n",
       "\n",
       "      study room  servant room  store room  pooja room  Overlooking_others  \\\n",
       "5214           0             1           0           1                   0   \n",
       "5068           1             1           0           1                   0   \n",
       "5215           0             1           0           0                   0   \n",
       "6505           1             1           1           1                   1   \n",
       "\n",
       "      Overlooking_main road  Overlooking_sea facing  Overlooking_club  \\\n",
       "5214                      0                       0                 0   \n",
       "5068                      0                       0                 1   \n",
       "5215                      0                       0                 0   \n",
       "6505                      0                       0                 1   \n",
       "\n",
       "      Overlooking_park/garden  Overlooking_pool  Overlooking_lake facing  \\\n",
       "5214                        0                 0                        0   \n",
       "5068                        1                 0                        0   \n",
       "5215                        0                 0                        0   \n",
       "6505                        1                 1                        0   \n",
       "\n",
       "      Overlooking_NA  flat_age  sector_num  luxury_score  \\\n",
       "5214               1         3          42            80   \n",
       "5068               0         3          42            96   \n",
       "5215               1         3          42            80   \n",
       "6505               0         3          42           189   \n",
       "\n",
       "                                              Text_info  Super Built-up Area  \\\n",
       "5214  Dlf the camellias is a prestigious ultra-Luxur...              11000.0   \n",
       "5068  Prime location super ultra luxury residency fl...              13000.0   \n",
       "5215  Dlf the camellias is a prestigious ultra-Luxur...               9500.0   \n",
       "6505  Dlf the magnolias, located in the prestigious ...               9800.0   \n",
       "\n",
       "      floor_ratio  \n",
       "5214     0.447368  \n",
       "5068     0.447368  \n",
       "5215     0.526316  \n",
       "6505     0.625000  "
      ]
     },
     "execution_count": 10,
     "metadata": {},
     "output_type": "execute_result"
    }
   ],
   "source": [
    "outliers.sort_values('Price_in_Crore', ascending = False).head(4)"
   ]
  },
  {
   "cell_type": "code",
   "execution_count": null,
   "id": "f88045bb-2622-40c1-9534-15361c65c2dc",
   "metadata": {},
   "outputs": [],
   "source": []
  },
  {
   "cell_type": "code",
   "execution_count": 11,
   "id": "be2b2a54-9a43-4033-b1e2-caa52ed79d56",
   "metadata": {},
   "outputs": [],
   "source": [
    "# on the basis of price col we can say that there are some genuine outliers but there are some data erros as well"
   ]
  },
  {
   "cell_type": "code",
   "execution_count": 12,
   "id": "b9f6e55b-5a31-447b-af19-f6b2a15ff866",
   "metadata": {},
   "outputs": [
    {
     "name": "stderr",
     "output_type": "stream",
     "text": [
      "C:\\Users\\dell\\AppData\\Local\\Temp\\ipykernel_12792\\3157417670.py:1: UserWarning: \n",
      "\n",
      "`distplot` is a deprecated function and will be removed in seaborn v0.14.0.\n",
      "\n",
      "Please adapt your code to use either `displot` (a figure-level function with\n",
      "similar flexibility) or `histplot` (an axes-level function for histograms).\n",
      "\n",
      "For a guide to updating your code to use the new functions, please see\n",
      "https://gist.github.com/mwaskom/de44147ed2974457ad6372750bbe5751\n",
      "\n",
      "  sns.distplot(df['price_Per_Sqft_converted'])\n"
     ]
    },
    {
     "data": {
      "text/plain": [
       "<Axes: xlabel='price_Per_Sqft_converted', ylabel='Density'>"
      ]
     },
     "execution_count": 12,
     "metadata": {},
     "output_type": "execute_result"
    },
    {
     "data": {
      "image/png": "[encoded data removed]",
      "text/plain": [
       "<Figure size 640x480 with 1 Axes>"
      ]
     },
     "metadata": {},
     "output_type": "display_data"
    }
   ],
   "source": [
    "sns.distplot(df['price_Per_Sqft_converted'])"
   ]
  },
  {
   "cell_type": "code",
   "execution_count": 13,
   "id": "ee69f6ea-17ed-45a6-9e62-a3d13bf04f4f",
   "metadata": {},
   "outputs": [
    {
     "data": {
      "text/plain": [
       "<Axes: xlabel='price_Per_Sqft_converted'>"
      ]
     },
     "execution_count": 13,
     "metadata": {},
     "output_type": "execute_result"
    },
    {
     "data": {
      "image/png": "[encoded data removed]",
      "text/plain": [
       "<Figure size 640x480 with 1 Axes>"
      ]
     },
     "metadata": {},
     "output_type": "display_data"
    }
   ],
   "source": [
    "sns.boxplot(x=df['price_Per_Sqft_converted'])"
   ]
  },
  {
   "cell_type": "code",
   "execution_count": 14,
   "id": "8d02d7ec-4d06-43d3-a53f-6a203f160644",
   "metadata": {},
   "outputs": [
    {
     "data": {
      "text/plain": [
       "(672,\n",
       " count    6.720000e+02\n",
       " mean     3.513521e+05\n",
       " std      7.133829e+05\n",
       " min      2.880600e+04\n",
       " 25%      3.151700e+04\n",
       " 50%      3.750000e+04\n",
       " 75%      8.971175e+04\n",
       " max      3.673527e+06\n",
       " Name: price_Per_Sqft_converted, dtype: float64)"
      ]
     },
     "execution_count": 14,
     "metadata": {},
     "output_type": "execute_result"
    }
   ],
   "source": [
    "Q1 = df['price_Per_Sqft_converted'].quantile(0.25)\n",
    "Q3 = df['price_Per_Sqft_converted'].quantile(0.75)\n",
    "IQR = Q3 - Q1\n",
    "\n",
    "lower_bound = Q1 - 1.5 * IQR\n",
    "upper_bound = Q3 + 1.5 * IQR\n",
    "\n",
    "outliers_sqft = df[(df['price_Per_Sqft_converted'] < lower_bound) | (df['price_Per_Sqft_converted'] > upper_bound)]\n",
    "\n",
    "num_outliers = outliers_sqft.shape[0]\n",
    "outliers_sqft_stats = outliers_sqft['price_Per_Sqft_converted'].describe()\n",
    "\n",
    "num_outliers, outliers_sqft_stats"
   ]
  },
  {
   "cell_type": "code",
   "execution_count": 15,
   "id": "ae459cfe-da64-4165-a031-a028c70d049e",
   "metadata": {},
   "outputs": [
    {
     "name": "stderr",
     "output_type": "stream",
     "text": [
      "C:\\Users\\dell\\AppData\\Local\\Temp\\ipykernel_12792\\1114685728.py:1: UserWarning: \n",
      "\n",
      "`distplot` is a deprecated function and will be removed in seaborn v0.14.0.\n",
      "\n",
      "Please adapt your code to use either `displot` (a figure-level function with\n",
      "similar flexibility) or `histplot` (an axes-level function for histograms).\n",
      "\n",
      "For a guide to updating your code to use the new functions, please see\n",
      "https://gist.github.com/mwaskom/de44147ed2974457ad6372750bbe5751\n",
      "\n",
      "  sns.distplot(df['Super Built-up Area'])\n"
     ]
    },
    {
     "data": {
      "text/plain": [
       "<Axes: xlabel='Super Built-up Area', ylabel='Density'>"
      ]
     },
     "execution_count": 15,
     "metadata": {},
     "output_type": "execute_result"
    },
    {
     "data": {
      "image/png": "[encoded data removed]",
      "text/plain": [
       "<Figure size 640x480 with 1 Axes>"
      ]
     },
     "metadata": {},
     "output_type": "display_data"
    }
   ],
   "source": [
    "sns.distplot(df['Super Built-up Area'])"
   ]
  },
  {
   "cell_type": "code",
   "execution_count": 16,
   "id": "1c02be51-5746-4fc7-b0c2-11e9acbe752d",
   "metadata": {},
   "outputs": [
    {
     "data": {
      "text/plain": [
       "count    12444.000000\n",
       "mean      2321.862918\n",
       "std       1555.103880\n",
       "min        300.000000\n",
       "25%       1650.000000\n",
       "50%       2025.000000\n",
       "75%       2660.000000\n",
       "max      79805.250000\n",
       "Name: Super Built-up Area, dtype: float64"
      ]
     },
     "execution_count": 16,
     "metadata": {},
     "output_type": "execute_result"
    }
   ],
   "source": [
    "df['Super Built-up Area'].describe()"
   ]
  },
  {
   "cell_type": "code",
   "execution_count": 17,
   "id": "35f19bdf-df94-4653-81be-174393bf22c4",
   "metadata": {},
   "outputs": [
    {
     "data": {
      "text/plain": [
       "0.900    3541.000\n",
       "0.950    4348.500\n",
       "0.995    8791.335\n",
       "Name: Super Built-up Area, dtype: float64"
      ]
     },
     "execution_count": 17,
     "metadata": {},
     "output_type": "execute_result"
    }
   ],
   "source": [
    "df['Super Built-up Area'].quantile([0.9 , 0.95 , 0.995])"
   ]
  },
  {
   "cell_type": "code",
   "execution_count": 18,
   "id": "1e6ccc75-5251-4222-acb0-a3c601b4c206",
   "metadata": {},
   "outputs": [
    {
     "data": {
      "text/plain": [
       "<Axes: xlabel='Super Built-up Area', ylabel='Price_in_Crore'>"
      ]
     },
     "execution_count": 18,
     "metadata": {},
     "output_type": "execute_result"
    },
    {
     "data": {
      "image/png": "[encoded data removed]",
      "text/plain": [
       "<Figure size 640x480 with 1 Axes>"
      ]
     },
     "metadata": {},
     "output_type": "display_data"
    }
   ],
   "source": [
    "sns.scatterplot(x = df['Super Built-up Area'] , y = df['Price_in_Crore'])"
   ]
  },
  {
   "cell_type": "code",
   "execution_count": 20,
   "id": "f2153ef1-1d32-4372-94bf-8b276288dcb9",
   "metadata": {},
   "outputs": [],
   "source": [
    "df = df[ (df['Super Built-up Area'] < 25000) ]"
   ]
  },
  {
   "cell_type": "code",
   "execution_count": 21,
   "id": "65e6a241-aaf5-4ef7-8568-48eca67d00b3",
   "metadata": {},
   "outputs": [
    {
     "data": {
      "text/plain": [
       "<Axes: xlabel='price_Per_Sqft_converted', ylabel='Price_in_Crore'>"
      ]
     },
     "execution_count": 21,
     "metadata": {},
     "output_type": "execute_result"
    },
    {
     "data": {
      "image/png": "[encoded data removed]",
      "text/plain": [
       "<Figure size 640x480 with 1 Axes>"
      ]
     },
     "metadata": {},
     "output_type": "display_data"
    }
   ],
   "source": [
    "sns.scatterplot(x = df['price_Per_Sqft_converted'] , y = df['Price_in_Crore'])"
   ]
  },
  {
   "cell_type": "code",
   "execution_count": null,
   "id": "7adaf6a7-a9b3-4c4f-8f93-1cad3184cabe",
   "metadata": {},
   "outputs": [],
   "source": []
  }
 ],
 "metadata": {
  "kernelspec": {
   "display_name": "Python 3 (ipykernel)",
   "language": "python",
   "name": "python3"
  },
  "language_info": {
   "codemirror_mode": {
    "name": "ipython",
    "version": 3
   },
   "file_extension": ".py",
   "mimetype": "text/x-python",
   "name": "python",
   "nbconvert_exporter": "python",
   "pygments_lexer": "ipython3",
   "version": "3.11.4"
  }
 },
 "nbformat": 4,
 "nbformat_minor": 5
}
